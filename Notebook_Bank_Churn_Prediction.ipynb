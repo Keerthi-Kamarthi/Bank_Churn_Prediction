{
  "nbformat": 4,
  "nbformat_minor": 0,
  "metadata": {
    "colab": {
      "name": "Notebook_Bank_Churn_Prediction.ipynb",
      "provenance": [],
      "collapsed_sections": []
    },
    "kernelspec": {
      "display_name": "Python 3",
      "language": "python",
      "name": "python3"
    },
    "language_info": {
      "codemirror_mode": {
        "name": "ipython",
        "version": 3
      },
      "file_extension": ".py",
      "mimetype": "text/x-python",
      "name": "python",
      "nbconvert_exporter": "python",
      "pygments_lexer": "ipython3",
      "version": "3.7.3"
    }
  },
  "cells": [
    {
      "cell_type": "markdown",
      "metadata": {
        "id": "DRX9f5_6HUNP"
      },
      "source": [
        "## Project - Bank Churn prediction\n",
        "\n",
        " \n",
        "### In this project, we aim to predict the churn for a bank, i.e, given a Bank customer, can we build a classifier which can determine whether they will leave or not using Neural networks\n",
        "\n",
        "### Objective:\n",
        "Given a Bank customer, build a neural network based classifier that can determine whether they will leave or not in the next 6 months. \n",
        "### Context:\n",
        "Businesses like banks which provide service have to worry about problem of 'Churn' i.e. customers leaving and joining another service provider. It is important to understand which aspects of the service influence a customer's decision in this regard. Management can concentrate efforts on improvement of service, keeping in mind these priorities.\n",
        "\n",
        "### Data Description:\n",
        "The case study is from an open-source dataset from Kaggle.The dataset contains 10,000 sample points with 14 distinct features such as CustomerId, CreditScore, Geography, Gender, Age, Tenure, Balance etc.\n",
        "Link to the Kaggle project site:https://www.kaggle.com/barelydedicated/bank-customer-churn-modelingPoints \n",
        "\n"
      ]
    },
    {
      "cell_type": "code",
      "metadata": {
        "colab": {
          "base_uri": "https://localhost:8080/",
          "height": 1000
        },
        "id": "szwhm3mUqvJE",
        "outputId": "b6743831-df21-4ad3-ba33-8a41af061b0e"
      },
      "source": [
        "# !pip install tensorflow==2.0"
      ],
      "execution_count": null,
      "outputs": [
        {
          "output_type": "stream",
          "text": [
            "Collecting tensorflow==2.0\n",
            "\u001b[?25l  Downloading https://files.pythonhosted.org/packages/46/0f/7bd55361168bb32796b360ad15a25de6966c9c1beb58a8e30c01c8279862/tensorflow-2.0.0-cp36-cp36m-manylinux2010_x86_64.whl (86.3MB)\n",
            "\u001b[K     |████████████████████████████████| 86.3MB 67kB/s \n",
            "\u001b[?25hRequirement already satisfied: astor>=0.6.0 in /usr/local/lib/python3.6/dist-packages (from tensorflow==2.0) (0.8.1)\n",
            "Requirement already satisfied: absl-py>=0.7.0 in /usr/local/lib/python3.6/dist-packages (from tensorflow==2.0) (0.9.0)\n",
            "Collecting gast==0.2.2\n",
            "  Downloading https://files.pythonhosted.org/packages/4e/35/11749bf99b2d4e3cceb4d55ca22590b0d7c2c62b9de38ac4a4a7f4687421/gast-0.2.2.tar.gz\n",
            "Requirement already satisfied: wheel>=0.26 in /usr/local/lib/python3.6/dist-packages (from tensorflow==2.0) (0.34.2)\n",
            "Requirement already satisfied: wrapt>=1.11.1 in /usr/local/lib/python3.6/dist-packages (from tensorflow==2.0) (1.12.1)\n",
            "Requirement already satisfied: keras-applications>=1.0.8 in /usr/local/lib/python3.6/dist-packages (from tensorflow==2.0) (1.0.8)\n",
            "Collecting tensorboard<2.1.0,>=2.0.0\n",
            "\u001b[?25l  Downloading https://files.pythonhosted.org/packages/76/54/99b9d5d52d5cb732f099baaaf7740403e83fe6b0cedde940fabd2b13d75a/tensorboard-2.0.2-py3-none-any.whl (3.8MB)\n",
            "\u001b[K     |████████████████████████████████| 3.8MB 36.9MB/s \n",
            "\u001b[?25hRequirement already satisfied: six>=1.10.0 in /usr/local/lib/python3.6/dist-packages (from tensorflow==2.0) (1.12.0)\n",
            "Requirement already satisfied: google-pasta>=0.1.6 in /usr/local/lib/python3.6/dist-packages (from tensorflow==2.0) (0.2.0)\n",
            "Requirement already satisfied: keras-preprocessing>=1.0.5 in /usr/local/lib/python3.6/dist-packages (from tensorflow==2.0) (1.1.0)\n",
            "Requirement already satisfied: opt-einsum>=2.3.2 in /usr/local/lib/python3.6/dist-packages (from tensorflow==2.0) (3.2.0)\n",
            "Requirement already satisfied: protobuf>=3.6.1 in /usr/local/lib/python3.6/dist-packages (from tensorflow==2.0) (3.10.0)\n",
            "Requirement already satisfied: grpcio>=1.8.6 in /usr/local/lib/python3.6/dist-packages (from tensorflow==2.0) (1.27.2)\n",
            "Collecting tensorflow-estimator<2.1.0,>=2.0.0\n",
            "\u001b[?25l  Downloading https://files.pythonhosted.org/packages/fc/08/8b927337b7019c374719145d1dceba21a8bb909b93b1ad6f8fb7d22c1ca1/tensorflow_estimator-2.0.1-py2.py3-none-any.whl (449kB)\n",
            "\u001b[K     |████████████████████████████████| 450kB 46.0MB/s \n",
            "\u001b[?25hRequirement already satisfied: termcolor>=1.1.0 in /usr/local/lib/python3.6/dist-packages (from tensorflow==2.0) (1.1.0)\n",
            "Requirement already satisfied: numpy<2.0,>=1.16.0 in /usr/local/lib/python3.6/dist-packages (from tensorflow==2.0) (1.18.2)\n",
            "Requirement already satisfied: h5py in /usr/local/lib/python3.6/dist-packages (from keras-applications>=1.0.8->tensorflow==2.0) (2.10.0)\n",
            "Requirement already satisfied: google-auth<2,>=1.6.3 in /usr/local/lib/python3.6/dist-packages (from tensorboard<2.1.0,>=2.0.0->tensorflow==2.0) (1.7.2)\n",
            "Requirement already satisfied: werkzeug>=0.11.15 in /usr/local/lib/python3.6/dist-packages (from tensorboard<2.1.0,>=2.0.0->tensorflow==2.0) (1.0.0)\n",
            "Requirement already satisfied: google-auth-oauthlib<0.5,>=0.4.1 in /usr/local/lib/python3.6/dist-packages (from tensorboard<2.1.0,>=2.0.0->tensorflow==2.0) (0.4.1)\n",
            "Requirement already satisfied: setuptools>=41.0.0 in /usr/local/lib/python3.6/dist-packages (from tensorboard<2.1.0,>=2.0.0->tensorflow==2.0) (46.0.0)\n",
            "Requirement already satisfied: requests<3,>=2.21.0 in /usr/local/lib/python3.6/dist-packages (from tensorboard<2.1.0,>=2.0.0->tensorflow==2.0) (2.21.0)\n",
            "Requirement already satisfied: markdown>=2.6.8 in /usr/local/lib/python3.6/dist-packages (from tensorboard<2.1.0,>=2.0.0->tensorflow==2.0) (3.2.1)\n",
            "Requirement already satisfied: cachetools<3.2,>=2.0.0 in /usr/local/lib/python3.6/dist-packages (from google-auth<2,>=1.6.3->tensorboard<2.1.0,>=2.0.0->tensorflow==2.0) (3.1.1)\n",
            "Requirement already satisfied: rsa<4.1,>=3.1.4 in /usr/local/lib/python3.6/dist-packages (from google-auth<2,>=1.6.3->tensorboard<2.1.0,>=2.0.0->tensorflow==2.0) (4.0)\n",
            "Requirement already satisfied: pyasn1-modules>=0.2.1 in /usr/local/lib/python3.6/dist-packages (from google-auth<2,>=1.6.3->tensorboard<2.1.0,>=2.0.0->tensorflow==2.0) (0.2.8)\n",
            "Requirement already satisfied: requests-oauthlib>=0.7.0 in /usr/local/lib/python3.6/dist-packages (from google-auth-oauthlib<0.5,>=0.4.1->tensorboard<2.1.0,>=2.0.0->tensorflow==2.0) (1.3.0)\n",
            "Requirement already satisfied: certifi>=2017.4.17 in /usr/local/lib/python3.6/dist-packages (from requests<3,>=2.21.0->tensorboard<2.1.0,>=2.0.0->tensorflow==2.0) (2019.11.28)\n",
            "Requirement already satisfied: idna<2.9,>=2.5 in /usr/local/lib/python3.6/dist-packages (from requests<3,>=2.21.0->tensorboard<2.1.0,>=2.0.0->tensorflow==2.0) (2.8)\n",
            "Requirement already satisfied: urllib3<1.25,>=1.21.1 in /usr/local/lib/python3.6/dist-packages (from requests<3,>=2.21.0->tensorboard<2.1.0,>=2.0.0->tensorflow==2.0) (1.24.3)\n",
            "Requirement already satisfied: chardet<3.1.0,>=3.0.2 in /usr/local/lib/python3.6/dist-packages (from requests<3,>=2.21.0->tensorboard<2.1.0,>=2.0.0->tensorflow==2.0) (3.0.4)\n",
            "Requirement already satisfied: pyasn1>=0.1.3 in /usr/local/lib/python3.6/dist-packages (from rsa<4.1,>=3.1.4->google-auth<2,>=1.6.3->tensorboard<2.1.0,>=2.0.0->tensorflow==2.0) (0.4.8)\n",
            "Requirement already satisfied: oauthlib>=3.0.0 in /usr/local/lib/python3.6/dist-packages (from requests-oauthlib>=0.7.0->google-auth-oauthlib<0.5,>=0.4.1->tensorboard<2.1.0,>=2.0.0->tensorflow==2.0) (3.1.0)\n",
            "Building wheels for collected packages: gast\n",
            "  Building wheel for gast (setup.py) ... \u001b[?25l\u001b[?25hdone\n",
            "  Created wheel for gast: filename=gast-0.2.2-cp36-none-any.whl size=7540 sha256=01bc436098ac3a0be52e90fa06704ec65f7af2571bcdff549cadf534a89d2b05\n",
            "  Stored in directory: /root/.cache/pip/wheels/5c/2e/7e/a1d4d4fcebe6c381f378ce7743a3ced3699feb89bcfbdadadd\n",
            "Successfully built gast\n",
            "Installing collected packages: gast, tensorboard, tensorflow-estimator, tensorflow\n",
            "  Found existing installation: gast 0.3.3\n",
            "    Uninstalling gast-0.3.3:\n",
            "      Successfully uninstalled gast-0.3.3\n",
            "  Found existing installation: tensorboard 1.15.0\n",
            "    Uninstalling tensorboard-1.15.0:\n",
            "      Successfully uninstalled tensorboard-1.15.0\n",
            "  Found existing installation: tensorflow-estimator 1.15.1\n",
            "    Uninstalling tensorflow-estimator-1.15.1:\n",
            "      Successfully uninstalled tensorflow-estimator-1.15.1\n",
            "  Found existing installation: tensorflow 1.15.2\n",
            "    Uninstalling tensorflow-1.15.2:\n",
            "      Successfully uninstalled tensorflow-1.15.2\n",
            "Successfully installed gast-0.2.2 tensorboard-2.1.1 tensorflow-2.2.0rc1 tensorflow-estimator-2.2.0rc0\n"
          ],
          "name": "stdout"
        }
      ]
    },
    {
      "cell_type": "code",
      "metadata": {
        "colab": {
          "base_uri": "https://localhost:8080/"
        },
        "id": "j0mRT6iJrkgJ",
        "outputId": "0748df87-b17b-4f6a-9341-ccaf4c447a66"
      },
      "source": [
        "import tensorflow as tf\n",
        "print(tf.__version__)"
      ],
      "execution_count": null,
      "outputs": [
        {
          "output_type": "stream",
          "text": [
            "2.4.0\n"
          ],
          "name": "stdout"
        }
      ]
    },
    {
      "cell_type": "code",
      "metadata": {
        "id": "IfeZclzIHUNs"
      },
      "source": [
        "import pandas as pd\n",
        "import seaborn as sns\n",
        "import matplotlib.pyplot as plt\n",
        "from tensorflow.keras.models import Sequential\n",
        "from tensorflow.keras.layers import Dense\n",
        "from sklearn import model_selection\n",
        "from sklearn.model_selection import train_test_split\n",
        "from sklearn.preprocessing import LabelEncoder, OneHotEncoder\n",
        "from sklearn.compose import ColumnTransformer\n",
        "from sklearn.metrics import confusion_matrix,classification_report"
      ],
      "execution_count": null,
      "outputs": []
    },
    {
      "cell_type": "code",
      "metadata": {
        "colab": {
          "base_uri": "https://localhost:8080/",
          "height": 125
        },
        "id": "MBVYdw85sEmE",
        "outputId": "80858173-cf0f-4e64-ae36-d4defc32c274"
      },
      "source": [
        "# from google.colab import drive\n",
        "# drive.mount('/content/drive')"
      ],
      "execution_count": null,
      "outputs": [
        {
          "output_type": "stream",
          "text": [
            "Go to this URL in a browser: https://accounts.google.com/o/oauth2/auth?client_id=947318989803-6bn6qk8qdgf4n4g3pfee6491hc0brc4i.apps.googleusercontent.com&redirect_uri=urn%3aietf%3awg%3aoauth%3a2.0%3aoob&response_type=code&scope=email%20https%3a%2f%2fwww.googleapis.com%2fauth%2fdocs.test%20https%3a%2f%2fwww.googleapis.com%2fauth%2fdrive%20https%3a%2f%2fwww.googleapis.com%2fauth%2fdrive.photos.readonly%20https%3a%2f%2fwww.googleapis.com%2fauth%2fpeopleapi.readonly\n",
            "\n",
            "Enter your authorization code:\n",
            "··········\n",
            "Mounted at /content/drive\n"
          ],
          "name": "stdout"
        }
      ]
    },
    {
      "cell_type": "markdown",
      "metadata": {
        "id": "z7ubXtC8HUOA"
      },
      "source": [
        "#### Read the dataset"
      ]
    },
    {
      "cell_type": "code",
      "metadata": {
        "id": "1QJLp3P3HUOC"
      },
      "source": [
        "# ds = pd.read_csv(\"/content/drive/My Drive/Colab Notebooks/bank.csv\")\r\n",
        "ds = pd.read_csv(\"bank.csv\")"
      ],
      "execution_count": null,
      "outputs": []
    },
    {
      "cell_type": "code",
      "metadata": {
        "colab": {
          "base_uri": "https://localhost:8080/",
          "height": 359
        },
        "id": "nCfASHJ8HUOS",
        "outputId": "4d9807dd-35ef-4a80-ca9a-cbbacd93b263"
      },
      "source": [
        "ds.head(10)"
      ],
      "execution_count": null,
      "outputs": [
        {
          "output_type": "execute_result",
          "data": {
            "text/html": [
              "<div>\n",
              "<style scoped>\n",
              "    .dataframe tbody tr th:only-of-type {\n",
              "        vertical-align: middle;\n",
              "    }\n",
              "\n",
              "    .dataframe tbody tr th {\n",
              "        vertical-align: top;\n",
              "    }\n",
              "\n",
              "    .dataframe thead th {\n",
              "        text-align: right;\n",
              "    }\n",
              "</style>\n",
              "<table border=\"1\" class=\"dataframe\">\n",
              "  <thead>\n",
              "    <tr style=\"text-align: right;\">\n",
              "      <th></th>\n",
              "      <th>RowNumber</th>\n",
              "      <th>CustomerId</th>\n",
              "      <th>Surname</th>\n",
              "      <th>CreditScore</th>\n",
              "      <th>Geography</th>\n",
              "      <th>Gender</th>\n",
              "      <th>Age</th>\n",
              "      <th>Tenure</th>\n",
              "      <th>Balance</th>\n",
              "      <th>NumOfProducts</th>\n",
              "      <th>HasCrCard</th>\n",
              "      <th>IsActiveMember</th>\n",
              "      <th>EstimatedSalary</th>\n",
              "      <th>Exited</th>\n",
              "    </tr>\n",
              "  </thead>\n",
              "  <tbody>\n",
              "    <tr>\n",
              "      <th>0</th>\n",
              "      <td>1</td>\n",
              "      <td>15634602</td>\n",
              "      <td>Hargrave</td>\n",
              "      <td>619</td>\n",
              "      <td>France</td>\n",
              "      <td>Female</td>\n",
              "      <td>42</td>\n",
              "      <td>2</td>\n",
              "      <td>0.00</td>\n",
              "      <td>1</td>\n",
              "      <td>1</td>\n",
              "      <td>1</td>\n",
              "      <td>101348.88</td>\n",
              "      <td>1</td>\n",
              "    </tr>\n",
              "    <tr>\n",
              "      <th>1</th>\n",
              "      <td>2</td>\n",
              "      <td>15647311</td>\n",
              "      <td>Hill</td>\n",
              "      <td>608</td>\n",
              "      <td>Spain</td>\n",
              "      <td>Female</td>\n",
              "      <td>41</td>\n",
              "      <td>1</td>\n",
              "      <td>83807.86</td>\n",
              "      <td>1</td>\n",
              "      <td>0</td>\n",
              "      <td>1</td>\n",
              "      <td>112542.58</td>\n",
              "      <td>0</td>\n",
              "    </tr>\n",
              "    <tr>\n",
              "      <th>2</th>\n",
              "      <td>3</td>\n",
              "      <td>15619304</td>\n",
              "      <td>Onio</td>\n",
              "      <td>502</td>\n",
              "      <td>France</td>\n",
              "      <td>Female</td>\n",
              "      <td>42</td>\n",
              "      <td>8</td>\n",
              "      <td>159660.80</td>\n",
              "      <td>3</td>\n",
              "      <td>1</td>\n",
              "      <td>0</td>\n",
              "      <td>113931.57</td>\n",
              "      <td>1</td>\n",
              "    </tr>\n",
              "    <tr>\n",
              "      <th>3</th>\n",
              "      <td>4</td>\n",
              "      <td>15701354</td>\n",
              "      <td>Boni</td>\n",
              "      <td>699</td>\n",
              "      <td>France</td>\n",
              "      <td>Female</td>\n",
              "      <td>39</td>\n",
              "      <td>1</td>\n",
              "      <td>0.00</td>\n",
              "      <td>2</td>\n",
              "      <td>0</td>\n",
              "      <td>0</td>\n",
              "      <td>93826.63</td>\n",
              "      <td>0</td>\n",
              "    </tr>\n",
              "    <tr>\n",
              "      <th>4</th>\n",
              "      <td>5</td>\n",
              "      <td>15737888</td>\n",
              "      <td>Mitchell</td>\n",
              "      <td>850</td>\n",
              "      <td>Spain</td>\n",
              "      <td>Female</td>\n",
              "      <td>43</td>\n",
              "      <td>2</td>\n",
              "      <td>125510.82</td>\n",
              "      <td>1</td>\n",
              "      <td>1</td>\n",
              "      <td>1</td>\n",
              "      <td>79084.10</td>\n",
              "      <td>0</td>\n",
              "    </tr>\n",
              "    <tr>\n",
              "      <th>5</th>\n",
              "      <td>6</td>\n",
              "      <td>15574012</td>\n",
              "      <td>Chu</td>\n",
              "      <td>645</td>\n",
              "      <td>Spain</td>\n",
              "      <td>Male</td>\n",
              "      <td>44</td>\n",
              "      <td>8</td>\n",
              "      <td>113755.78</td>\n",
              "      <td>2</td>\n",
              "      <td>1</td>\n",
              "      <td>0</td>\n",
              "      <td>149756.71</td>\n",
              "      <td>1</td>\n",
              "    </tr>\n",
              "    <tr>\n",
              "      <th>6</th>\n",
              "      <td>7</td>\n",
              "      <td>15592531</td>\n",
              "      <td>Bartlett</td>\n",
              "      <td>822</td>\n",
              "      <td>France</td>\n",
              "      <td>Male</td>\n",
              "      <td>50</td>\n",
              "      <td>7</td>\n",
              "      <td>0.00</td>\n",
              "      <td>2</td>\n",
              "      <td>1</td>\n",
              "      <td>1</td>\n",
              "      <td>10062.80</td>\n",
              "      <td>0</td>\n",
              "    </tr>\n",
              "    <tr>\n",
              "      <th>7</th>\n",
              "      <td>8</td>\n",
              "      <td>15656148</td>\n",
              "      <td>Obinna</td>\n",
              "      <td>376</td>\n",
              "      <td>Germany</td>\n",
              "      <td>Female</td>\n",
              "      <td>29</td>\n",
              "      <td>4</td>\n",
              "      <td>115046.74</td>\n",
              "      <td>4</td>\n",
              "      <td>1</td>\n",
              "      <td>0</td>\n",
              "      <td>119346.88</td>\n",
              "      <td>1</td>\n",
              "    </tr>\n",
              "    <tr>\n",
              "      <th>8</th>\n",
              "      <td>9</td>\n",
              "      <td>15792365</td>\n",
              "      <td>He</td>\n",
              "      <td>501</td>\n",
              "      <td>France</td>\n",
              "      <td>Male</td>\n",
              "      <td>44</td>\n",
              "      <td>4</td>\n",
              "      <td>142051.07</td>\n",
              "      <td>2</td>\n",
              "      <td>0</td>\n",
              "      <td>1</td>\n",
              "      <td>74940.50</td>\n",
              "      <td>0</td>\n",
              "    </tr>\n",
              "    <tr>\n",
              "      <th>9</th>\n",
              "      <td>10</td>\n",
              "      <td>15592389</td>\n",
              "      <td>H?</td>\n",
              "      <td>684</td>\n",
              "      <td>France</td>\n",
              "      <td>Male</td>\n",
              "      <td>27</td>\n",
              "      <td>2</td>\n",
              "      <td>134603.88</td>\n",
              "      <td>1</td>\n",
              "      <td>1</td>\n",
              "      <td>1</td>\n",
              "      <td>71725.73</td>\n",
              "      <td>0</td>\n",
              "    </tr>\n",
              "  </tbody>\n",
              "</table>\n",
              "</div>"
            ],
            "text/plain": [
              "   RowNumber  CustomerId   Surname  ...  IsActiveMember EstimatedSalary Exited\n",
              "0          1    15634602  Hargrave  ...               1       101348.88      1\n",
              "1          2    15647311      Hill  ...               1       112542.58      0\n",
              "2          3    15619304      Onio  ...               0       113931.57      1\n",
              "3          4    15701354      Boni  ...               0        93826.63      0\n",
              "4          5    15737888  Mitchell  ...               1        79084.10      0\n",
              "5          6    15574012       Chu  ...               0       149756.71      1\n",
              "6          7    15592531  Bartlett  ...               1        10062.80      0\n",
              "7          8    15656148    Obinna  ...               0       119346.88      1\n",
              "8          9    15792365        He  ...               1        74940.50      0\n",
              "9         10    15592389        H?  ...               1        71725.73      0\n",
              "\n",
              "[10 rows x 14 columns]"
            ]
          },
          "metadata": {
            "tags": []
          },
          "execution_count": 134
        }
      ]
    },
    {
      "cell_type": "markdown",
      "metadata": {
        "id": "BsBwLHcmHUOg"
      },
      "source": [
        "#### Drop the columns which are unique for all users like IDs"
      ]
    },
    {
      "cell_type": "code",
      "metadata": {
        "id": "ivF2RMo6HUOr"
      },
      "source": [
        "#RowNumber #CustomerId and #Surname are unique hence dropping it\n",
        "ds = ds.drop(['RowNumber', 'CustomerId', 'Surname'], axis=1)"
      ],
      "execution_count": null,
      "outputs": []
    },
    {
      "cell_type": "code",
      "metadata": {
        "colab": {
          "base_uri": "https://localhost:8080/"
        },
        "id": "owLb0T9WHUO0",
        "outputId": "954ea2a0-58e6-4a76-f7cc-4c24f274e1a2"
      },
      "source": [
        "ds.info()"
      ],
      "execution_count": null,
      "outputs": [
        {
          "output_type": "stream",
          "text": [
            "<class 'pandas.core.frame.DataFrame'>\n",
            "RangeIndex: 10000 entries, 0 to 9999\n",
            "Data columns (total 11 columns):\n",
            " #   Column           Non-Null Count  Dtype  \n",
            "---  ------           --------------  -----  \n",
            " 0   CreditScore      10000 non-null  int64  \n",
            " 1   Geography        10000 non-null  object \n",
            " 2   Gender           10000 non-null  object \n",
            " 3   Age              10000 non-null  int64  \n",
            " 4   Tenure           10000 non-null  int64  \n",
            " 5   Balance          10000 non-null  float64\n",
            " 6   NumOfProducts    10000 non-null  int64  \n",
            " 7   HasCrCard        10000 non-null  int64  \n",
            " 8   IsActiveMember   10000 non-null  int64  \n",
            " 9   EstimatedSalary  10000 non-null  float64\n",
            " 10  Exited           10000 non-null  int64  \n",
            "dtypes: float64(2), int64(7), object(2)\n",
            "memory usage: 859.5+ KB\n"
          ],
          "name": "stdout"
        }
      ]
    },
    {
      "cell_type": "code",
      "metadata": {
        "colab": {
          "base_uri": "https://localhost:8080/",
          "height": 333
        },
        "id": "cXNn5gBSrn3T",
        "outputId": "6629cade-acdf-44f6-cbc8-a539c960c277"
      },
      "source": [
        "sns.countplot(ds['Exited']);"
      ],
      "execution_count": null,
      "outputs": [
        {
          "output_type": "stream",
          "text": [
            "/usr/local/lib/python3.6/dist-packages/seaborn/_decorators.py:43: FutureWarning: Pass the following variable as a keyword arg: x. From version 0.12, the only valid positional argument will be `data`, and passing other arguments without an explicit keyword will result in an error or misinterpretation.\n",
            "  FutureWarning\n"
          ],
          "name": "stderr"
        },
        {
          "output_type": "display_data",
          "data": {
            "image/png": "[encoded data removed]",
            "text/plain": [
              "<Figure size 432x288 with 1 Axes>"
            ]
          },
          "metadata": {
            "tags": [],
            "needs_background": "light"
          }
        }
      ]
    },
    {
      "cell_type": "code",
      "metadata": {
        "colab": {
          "base_uri": "https://localhost:8080/"
        },
        "id": "jSHo0FQzrzi6",
        "outputId": "7842df2d-f40c-4702-d8a1-34bd34f89be8"
      },
      "source": [
        "ds['Exited'].value_counts(True)"
      ],
      "execution_count": null,
      "outputs": [
        {
          "output_type": "execute_result",
          "data": {
            "text/plain": [
              "0    0.7963\n",
              "1    0.2037\n",
              "Name: Exited, dtype: float64"
            ]
          },
          "metadata": {
            "tags": []
          },
          "execution_count": 42
        }
      ]
    },
    {
      "cell_type": "code",
      "metadata": {
        "colab": {
          "base_uri": "https://localhost:8080/"
        },
        "id": "2phjlpsmHUOh",
        "outputId": "bbb3d164-e9df-4893-9fba-52a9f8b06787"
      },
      "source": [
        "ds['Geography'].value_counts()"
      ],
      "execution_count": null,
      "outputs": [
        {
          "output_type": "execute_result",
          "data": {
            "text/plain": [
              "France     5014\n",
              "Germany    2509\n",
              "Spain      2477\n",
              "Name: Geography, dtype: int64"
            ]
          },
          "metadata": {
            "tags": []
          },
          "execution_count": 5
        }
      ]
    },
    {
      "cell_type": "code",
      "metadata": {
        "colab": {
          "base_uri": "https://localhost:8080/",
          "height": 279
        },
        "id": "ZPB7GS7WryeE",
        "outputId": "b9b77264-db0b-4983-e363-14e53f8fc638"
      },
      "source": [
        "sns.countplot(x='Geography',hue='Exited',data=ds);"
      ],
      "execution_count": null,
      "outputs": [
        {
          "output_type": "display_data",
          "data": {
            "image/png": "[encoded data removed]",
            "text/plain": [
              "<Figure size 432x288 with 1 Axes>"
            ]
          },
          "metadata": {
            "tags": [],
            "needs_background": "light"
          }
        }
      ]
    },
    {
      "cell_type": "code",
      "metadata": {
        "colab": {
          "base_uri": "https://localhost:8080/"
        },
        "id": "uamNG6q5sSVb",
        "outputId": "b39e2f36-e6c3-46b9-abac-cbe3f3035ff8"
      },
      "source": [
        "ds[ds['Exited']==1]['Geography'].value_counts()/ds['Geography'].value_counts()"
      ],
      "execution_count": null,
      "outputs": [
        {
          "output_type": "execute_result",
          "data": {
            "text/plain": [
              "France     0.161548\n",
              "Germany    0.324432\n",
              "Spain      0.166734\n",
              "Name: Geography, dtype: float64"
            ]
          },
          "metadata": {
            "tags": []
          },
          "execution_count": 47
        }
      ]
    },
    {
      "cell_type": "code",
      "metadata": {
        "colab": {
          "base_uri": "https://localhost:8080/",
          "height": 296
        },
        "id": "ot_V_dk5soat",
        "outputId": "58c38e92-3cb3-4eff-9320-107be88c1166"
      },
      "source": [
        "sns.boxplot(y= ds['Age'],x= ds['Exited'], hue=ds['Exited'])"
      ],
      "execution_count": null,
      "outputs": [
        {
          "output_type": "execute_result",
          "data": {
            "text/plain": [
              "<matplotlib.axes._subplots.AxesSubplot at 0x7f39b721e7f0>"
            ]
          },
          "metadata": {
            "tags": []
          },
          "execution_count": 52
        },
        {
          "output_type": "display_data",
          "data": {
            "image/png": "[encoded data removed]",
            "text/plain": [
              "<Figure size 432x288 with 1 Axes>"
            ]
          },
          "metadata": {
            "tags": [],
            "needs_background": "light"
          }
        }
      ]
    },
    {
      "cell_type": "code",
      "metadata": {
        "colab": {
          "base_uri": "https://localhost:8080/",
          "height": 296
        },
        "id": "jOHWvJ0htAes",
        "outputId": "4e78373c-18f2-40e0-812d-fcfde5fdd92e"
      },
      "source": [
        "sns.boxplot(y= ds['Balance'],x= ds['Exited'], hue=ds['Exited'])"
      ],
      "execution_count": null,
      "outputs": [
        {
          "output_type": "execute_result",
          "data": {
            "text/plain": [
              "<matplotlib.axes._subplots.AxesSubplot at 0x7f39b7125b70>"
            ]
          },
          "metadata": {
            "tags": []
          },
          "execution_count": 53
        },
        {
          "output_type": "display_data",
          "data": {
            "image/png": "[encoded data removed]",
            "text/plain": [
              "<Figure size 432x288 with 1 Axes>"
            ]
          },
          "metadata": {
            "tags": [],
            "needs_background": "light"
          }
        }
      ]
    },
    {
      "cell_type": "code",
      "metadata": {
        "colab": {
          "base_uri": "https://localhost:8080/",
          "height": 296
        },
        "id": "vnzFqRKos_Lz",
        "outputId": "dab7b28a-7e32-4f6f-ae3f-24373694f95b"
      },
      "source": [
        "sns.boxplot(y= ds['CreditScore'],x= ds['Exited'], hue=ds['Exited'])"
      ],
      "execution_count": null,
      "outputs": [
        {
          "output_type": "execute_result",
          "data": {
            "text/plain": [
              "<matplotlib.axes._subplots.AxesSubplot at 0x7f39b71f77f0>"
            ]
          },
          "metadata": {
            "tags": []
          },
          "execution_count": 55
        },
        {
          "output_type": "display_data",
          "data": {
            "image/png": "[encoded data removed]",
            "text/plain": [
              "<Figure size 432x288 with 1 Axes>"
            ]
          },
          "metadata": {
            "tags": [],
            "needs_background": "light"
          }
        }
      ]
    },
    {
      "cell_type": "markdown",
      "metadata": {
        "id": "CUXPaUwZHUO8"
      },
      "source": [
        "#### Distinguish the feature and target set"
      ]
    },
    {
      "cell_type": "code",
      "metadata": {
        "id": "VTb3JwlaHUO-"
      },
      "source": [
        "X = ds.iloc[:,0:10].values # Credit Score through Estimated Salary\n",
        "y = ds.iloc[:,10].values # Exited"
      ],
      "execution_count": null,
      "outputs": []
    },
    {
      "cell_type": "code",
      "metadata": {
        "colab": {
          "base_uri": "https://localhost:8080/"
        },
        "id": "ikg-QAywHUPE",
        "outputId": "9babe890-980a-478c-c08c-8739b4f6c794"
      },
      "source": [
        "# Encoding categorical (string based) data. Country: there are 3 options: France, Spain and Germany\n",
        "# This will convert those strings into scalar values for analysis\n",
        "print(X[:8,1], '... will now become: ')\n",
        "\n",
        "label_X_country_encoder = LabelEncoder()\n",
        "X[:,1] = label_X_country_encoder.fit_transform(X[:,1])\n",
        "print(X[:8,1])"
      ],
      "execution_count": null,
      "outputs": [
        {
          "output_type": "stream",
          "text": [
            "['France' 'Spain' 'France' 'France' 'Spain' 'Spain' 'France' 'Germany'] ... will now become: \n",
            "[0 2 0 0 2 2 0 1]\n"
          ],
          "name": "stdout"
        }
      ]
    },
    {
      "cell_type": "code",
      "metadata": {
        "colab": {
          "base_uri": "https://localhost:8080/"
        },
        "id": "wWrBLaE_HUPJ",
        "outputId": "468180f9-a550-4fe0-e1b5-84e67813fc6f"
      },
      "source": [
        "# We will do the same thing for gender. this will be binary in this dataset\n",
        "print(X[:6,2], '... will now become: ')\n",
        "\n",
        "label_X_gender_encoder = LabelEncoder()\n",
        "X[:,2] = label_X_gender_encoder.fit_transform(X[:,2])\n",
        "print(X[:6,2])"
      ],
      "execution_count": null,
      "outputs": [
        {
          "output_type": "stream",
          "text": [
            "['Female' 'Female' 'Female' 'Female' 'Female' 'Male'] ... will now become: \n",
            "[0 0 0 0 0 1]\n"
          ],
          "name": "stdout"
        }
      ]
    },
    {
      "cell_type": "code",
      "metadata": {
        "id": "9vo-BBy5HUPP"
      },
      "source": [
        "# The Problem here is that we are treating the countries as one variable with ordinal values (0 < 1 < 2). \n",
        "# Therefore, one way to get rid of that problem is to split the countries into respective dimensions.\n",
        "# Gender does not need this as it is binary\n",
        "\n",
        "# Converting the string features into their own dimensions. Gender doesn't matter here because its binary\n",
        "#countryhotencoder = OneHotEncoder(categories = [1]) # 1 is the country column\n",
        "countryhotencoder = ColumnTransformer([(\"countries\", OneHotEncoder(), [1])], remainder=\"passthrough\")\n",
        "X = countryhotencoder.fit_transform(X)\n",
        "#X = countryhotencoder.fit_transform(X).toarray()"
      ],
      "execution_count": null,
      "outputs": []
    },
    {
      "cell_type": "markdown",
      "metadata": {
        "id": "-KlbGvw0riO0"
      },
      "source": [
        ""
      ]
    },
    {
      "cell_type": "code",
      "metadata": {
        "colab": {
          "base_uri": "https://localhost:8080/"
        },
        "id": "RwYnvT59HUPT",
        "outputId": "e1bb1b57-4d42-49fc-9493-0e00a037f2c6"
      },
      "source": [
        "X.shape"
      ],
      "execution_count": null,
      "outputs": [
        {
          "output_type": "execute_result",
          "data": {
            "text/plain": [
              "(10000, 12)"
            ]
          },
          "metadata": {
            "tags": []
          },
          "execution_count": 165
        }
      ]
    },
    {
      "cell_type": "code",
      "metadata": {
        "colab": {
          "base_uri": "https://localhost:8080/"
        },
        "id": "KDvpBBbDHUPX",
        "outputId": "38e2a2a1-2b64-462d-8431-094ae131fb82"
      },
      "source": [
        "X"
      ],
      "execution_count": null,
      "outputs": [
        {
          "output_type": "execute_result",
          "data": {
            "text/plain": [
              "array([[1.0, 0.0, 0.0, ..., 1, 1, 101348.88],\n",
              "       [0.0, 0.0, 1.0, ..., 0, 1, 112542.58],\n",
              "       [1.0, 0.0, 0.0, ..., 1, 0, 113931.57],\n",
              "       ...,\n",
              "       [1.0, 0.0, 0.0, ..., 0, 1, 42085.58],\n",
              "       [0.0, 1.0, 0.0, ..., 1, 0, 92888.52],\n",
              "       [1.0, 0.0, 0.0, ..., 1, 0, 38190.78]], dtype=object)"
            ]
          },
          "metadata": {
            "tags": []
          },
          "execution_count": 166
        }
      ]
    },
    {
      "cell_type": "code",
      "metadata": {
        "id": "td8t2NpPHUPe"
      },
      "source": [
        "# A 0 on two countries means that the country has to be the one variable which wasn't included \n",
        "# This will save us from the problem of using too many dimensions\n",
        "X = X[:,1:] # Got rid of Spain as a dimension."
      ],
      "execution_count": null,
      "outputs": []
    },
    {
      "cell_type": "markdown",
      "metadata": {
        "id": "wyFlF8iBHUPk"
      },
      "source": [
        "#### Divide the data set into Train and test sets"
      ]
    },
    {
      "cell_type": "code",
      "metadata": {
        "id": "0YvyE1kXHUPl"
      },
      "source": [
        "# Splitting the dataset into the Training and Testing set.\n",
        "\n",
        "X_train, X_test, y_train, y_test = train_test_split(X,y, test_size = 0.2, random_state = 0)"
      ],
      "execution_count": null,
      "outputs": []
    },
    {
      "cell_type": "markdown",
      "metadata": {
        "id": "qlSyq5fNHUPp"
      },
      "source": [
        "#### Normalize the train and test data"
      ]
    },
    {
      "cell_type": "code",
      "metadata": {
        "id": "SEcfWvfrHUPr"
      },
      "source": [
        "# Feature Scaling\n",
        "from sklearn.preprocessing import StandardScaler\n",
        "sc=StandardScaler()\n",
        "X_train = sc.fit_transform(X_train)\n",
        "X_test = sc.transform(X_test)"
      ],
      "execution_count": null,
      "outputs": []
    },
    {
      "cell_type": "markdown",
      "metadata": {
        "id": "m-_JBupNHUPw"
      },
      "source": [
        "#### Initialize & build the model"
      ]
    },
    {
      "cell_type": "code",
      "metadata": {
        "id": "aexcSjTuHUPx"
      },
      "source": [
        "# Initializing the ANN\n",
        "classifier = Sequential()"
      ],
      "execution_count": null,
      "outputs": []
    },
    {
      "cell_type": "code",
      "metadata": {
        "id": "bsCe9B-QHUP9"
      },
      "source": [
        "# The amount of nodes (dimensions) in hidden layer should be the average of input and output layers, in this case 6.\n",
        "# This adds the input layer (by specifying input dimension) AND the first hidden layer (units)\n",
        "classifier.add(Dense(activation = 'relu', input_dim = 11, units=6, kernel_initializer='uniform'))"
      ],
      "execution_count": null,
      "outputs": []
    },
    {
      "cell_type": "code",
      "metadata": {
        "id": "_Diwju_BHUQK"
      },
      "source": [
        "#Add 1st hidden layer\n",
        "classifier.add(Dense(6, activation='sigmoid', kernel_initializer='uniform'))"
      ],
      "execution_count": null,
      "outputs": []
    },
    {
      "cell_type": "code",
      "metadata": {
        "id": "pKtHXQExHUQO"
      },
      "source": [
        "# Adding the output layer\n",
        "# Notice that we do not need to specify input dim. \n",
        "# we have an output of 1 node, which is the the desired dimensions of our output (stay with the bank or not)\n",
        "# We use the sigmoid because we want probability outcomes\n",
        "classifier.add(Dense(1, activation = 'sigmoid', kernel_initializer='uniform')) "
      ],
      "execution_count": null,
      "outputs": []
    },
    {
      "cell_type": "code",
      "metadata": {
        "id": "BNP3DiCLHUQR"
      },
      "source": [
        "# Create optimizer with default learning rate\n",
        "# Compile the model\n",
        "classifier.compile(optimizer='SGD', loss='mse', metrics=['accuracy'])"
      ],
      "execution_count": null,
      "outputs": []
    },
    {
      "cell_type": "code",
      "metadata": {
        "colab": {
          "base_uri": "https://localhost:8080/"
        },
        "id": "U1ZM6oGVHUQX",
        "outputId": "37baed8c-1b91-4534-bed1-829337972635"
      },
      "source": [
        "classifier.summary()"
      ],
      "execution_count": null,
      "outputs": [
        {
          "output_type": "stream",
          "text": [
            "Model: \"sequential_7\"\n",
            "_________________________________________________________________\n",
            "Layer (type)                 Output Shape              Param #   \n",
            "=================================================================\n",
            "dense_23 (Dense)             (None, 6)                 72        \n",
            "_________________________________________________________________\n",
            "dense_24 (Dense)             (None, 6)                 42        \n",
            "_________________________________________________________________\n",
            "dense_25 (Dense)             (None, 1)                 7         \n",
            "=================================================================\n",
            "Total params: 121\n",
            "Trainable params: 121\n",
            "Non-trainable params: 0\n",
            "_________________________________________________________________\n"
          ],
          "name": "stdout"
        }
      ]
    },
    {
      "cell_type": "code",
      "metadata": {
        "colab": {
          "base_uri": "https://localhost:8080/"
        },
        "id": "H5q62XKSHUQc",
        "outputId": "ae92e55b-2fb1-49dc-d0b7-cd74e2c22df7"
      },
      "source": [
        "classifier.fit(X_train, y_train,           \n",
        "          validation_data=(X_test,y_test),\n",
        "          epochs=100,\n",
        "          batch_size=32)"
      ],
      "execution_count": null,
      "outputs": [
        {
          "output_type": "stream",
          "text": [
            "Epoch 1/100\n",
            "250/250 [==============================] - 1s 2ms/step - loss: 0.2259 - accuracy: 0.7668 - val_loss: 0.1826 - val_accuracy: 0.7975\n",
            "Epoch 2/100\n",
            "250/250 [==============================] - 0s 1ms/step - loss: 0.1802 - accuracy: 0.7900 - val_loss: 0.1682 - val_accuracy: 0.7975\n",
            "Epoch 3/100\n",
            "250/250 [==============================] - 0s 1ms/step - loss: 0.1654 - accuracy: 0.8006 - val_loss: 0.1641 - val_accuracy: 0.7975\n",
            "Epoch 4/100\n",
            "250/250 [==============================] - 0s 1ms/step - loss: 0.1646 - accuracy: 0.7956 - val_loss: 0.1626 - val_accuracy: 0.7975\n",
            "Epoch 5/100\n",
            "250/250 [==============================] - 0s 1ms/step - loss: 0.1628 - accuracy: 0.7969 - val_loss: 0.1620 - val_accuracy: 0.7975\n",
            "Epoch 6/100\n",
            "250/250 [==============================] - 0s 1ms/step - loss: 0.1663 - accuracy: 0.7897 - val_loss: 0.1618 - val_accuracy: 0.7975\n",
            "Epoch 7/100\n",
            "250/250 [==============================] - 0s 1ms/step - loss: 0.1664 - accuracy: 0.7893 - val_loss: 0.1616 - val_accuracy: 0.7975\n",
            "Epoch 8/100\n",
            "250/250 [==============================] - 0s 1ms/step - loss: 0.1666 - accuracy: 0.7888 - val_loss: 0.1616 - val_accuracy: 0.7975\n",
            "Epoch 9/100\n",
            "250/250 [==============================] - 0s 1ms/step - loss: 0.1612 - accuracy: 0.7981 - val_loss: 0.1615 - val_accuracy: 0.7975\n",
            "Epoch 10/100\n",
            "250/250 [==============================] - 0s 1ms/step - loss: 0.1613 - accuracy: 0.7979 - val_loss: 0.1615 - val_accuracy: 0.7975\n",
            "Epoch 11/100\n",
            "250/250 [==============================] - 0s 1ms/step - loss: 0.1660 - accuracy: 0.7899 - val_loss: 0.1615 - val_accuracy: 0.7975\n",
            "Epoch 12/100\n",
            "250/250 [==============================] - 0s 1ms/step - loss: 0.1599 - accuracy: 0.8003 - val_loss: 0.1615 - val_accuracy: 0.7975\n",
            "Epoch 13/100\n",
            "250/250 [==============================] - 0s 1ms/step - loss: 0.1592 - accuracy: 0.8014 - val_loss: 0.1615 - val_accuracy: 0.7975\n",
            "Epoch 14/100\n",
            "250/250 [==============================] - 0s 1ms/step - loss: 0.1632 - accuracy: 0.7946 - val_loss: 0.1615 - val_accuracy: 0.7975\n",
            "Epoch 15/100\n",
            "250/250 [==============================] - 0s 2ms/step - loss: 0.1644 - accuracy: 0.7926 - val_loss: 0.1615 - val_accuracy: 0.7975\n",
            "Epoch 16/100\n",
            "250/250 [==============================] - 0s 1ms/step - loss: 0.1583 - accuracy: 0.8029 - val_loss: 0.1615 - val_accuracy: 0.7975\n",
            "Epoch 17/100\n",
            "250/250 [==============================] - 0s 1ms/step - loss: 0.1637 - accuracy: 0.7939 - val_loss: 0.1615 - val_accuracy: 0.7975\n",
            "Epoch 18/100\n",
            "250/250 [==============================] - 0s 2ms/step - loss: 0.1643 - accuracy: 0.7928 - val_loss: 0.1615 - val_accuracy: 0.7975\n",
            "Epoch 19/100\n",
            "250/250 [==============================] - 0s 1ms/step - loss: 0.1662 - accuracy: 0.7895 - val_loss: 0.1615 - val_accuracy: 0.7975\n",
            "Epoch 20/100\n",
            "250/250 [==============================] - 0s 1ms/step - loss: 0.1637 - accuracy: 0.7939 - val_loss: 0.1615 - val_accuracy: 0.7975\n",
            "Epoch 21/100\n",
            "250/250 [==============================] - 0s 2ms/step - loss: 0.1602 - accuracy: 0.7998 - val_loss: 0.1615 - val_accuracy: 0.7975\n",
            "Epoch 22/100\n",
            "250/250 [==============================] - 0s 1ms/step - loss: 0.1572 - accuracy: 0.8048 - val_loss: 0.1615 - val_accuracy: 0.7975\n",
            "Epoch 23/100\n",
            "250/250 [==============================] - 0s 1ms/step - loss: 0.1635 - accuracy: 0.7942 - val_loss: 0.1615 - val_accuracy: 0.7975\n",
            "Epoch 24/100\n",
            "250/250 [==============================] - 0s 1ms/step - loss: 0.1665 - accuracy: 0.7890 - val_loss: 0.1615 - val_accuracy: 0.7975\n",
            "Epoch 25/100\n",
            "250/250 [==============================] - 0s 2ms/step - loss: 0.1624 - accuracy: 0.7959 - val_loss: 0.1615 - val_accuracy: 0.7975\n",
            "Epoch 26/100\n",
            "250/250 [==============================] - 0s 1ms/step - loss: 0.1625 - accuracy: 0.7959 - val_loss: 0.1615 - val_accuracy: 0.7975\n",
            "Epoch 27/100\n",
            "250/250 [==============================] - 0s 1ms/step - loss: 0.1628 - accuracy: 0.7952 - val_loss: 0.1615 - val_accuracy: 0.7975\n",
            "Epoch 28/100\n",
            "250/250 [==============================] - 0s 2ms/step - loss: 0.1593 - accuracy: 0.8012 - val_loss: 0.1615 - val_accuracy: 0.7975\n",
            "Epoch 29/100\n",
            "250/250 [==============================] - 1s 2ms/step - loss: 0.1637 - accuracy: 0.7938 - val_loss: 0.1615 - val_accuracy: 0.7975\n",
            "Epoch 30/100\n",
            "250/250 [==============================] - 0s 2ms/step - loss: 0.1716 - accuracy: 0.7804 - val_loss: 0.1615 - val_accuracy: 0.7975\n",
            "Epoch 31/100\n",
            "250/250 [==============================] - 0s 1ms/step - loss: 0.1650 - accuracy: 0.7915 - val_loss: 0.1615 - val_accuracy: 0.7975\n",
            "Epoch 32/100\n",
            "250/250 [==============================] - 0s 2ms/step - loss: 0.1598 - accuracy: 0.8004 - val_loss: 0.1615 - val_accuracy: 0.7975\n",
            "Epoch 33/100\n",
            "250/250 [==============================] - 0s 2ms/step - loss: 0.1583 - accuracy: 0.8029 - val_loss: 0.1615 - val_accuracy: 0.7975\n",
            "Epoch 34/100\n",
            "250/250 [==============================] - 0s 1ms/step - loss: 0.1649 - accuracy: 0.7917 - val_loss: 0.1615 - val_accuracy: 0.7975\n",
            "Epoch 35/100\n",
            "250/250 [==============================] - 0s 2ms/step - loss: 0.1609 - accuracy: 0.7985 - val_loss: 0.1615 - val_accuracy: 0.7975\n",
            "Epoch 36/100\n",
            "250/250 [==============================] - 0s 2ms/step - loss: 0.1580 - accuracy: 0.8033 - val_loss: 0.1615 - val_accuracy: 0.7975\n",
            "Epoch 37/100\n",
            "250/250 [==============================] - 0s 2ms/step - loss: 0.1651 - accuracy: 0.7914 - val_loss: 0.1615 - val_accuracy: 0.7975\n",
            "Epoch 38/100\n",
            "250/250 [==============================] - 0s 1ms/step - loss: 0.1632 - accuracy: 0.7947 - val_loss: 0.1615 - val_accuracy: 0.7975\n",
            "Epoch 39/100\n",
            "250/250 [==============================] - 0s 2ms/step - loss: 0.1618 - accuracy: 0.7970 - val_loss: 0.1615 - val_accuracy: 0.7975\n",
            "Epoch 40/100\n",
            "250/250 [==============================] - 0s 1ms/step - loss: 0.1614 - accuracy: 0.7976 - val_loss: 0.1615 - val_accuracy: 0.7975\n",
            "Epoch 41/100\n",
            "250/250 [==============================] - 0s 1ms/step - loss: 0.1654 - accuracy: 0.7909 - val_loss: 0.1615 - val_accuracy: 0.7975\n",
            "Epoch 42/100\n",
            "250/250 [==============================] - 0s 1ms/step - loss: 0.1621 - accuracy: 0.7964 - val_loss: 0.1615 - val_accuracy: 0.7975\n",
            "Epoch 43/100\n",
            "250/250 [==============================] - 0s 1ms/step - loss: 0.1661 - accuracy: 0.7897 - val_loss: 0.1615 - val_accuracy: 0.7975\n",
            "Epoch 44/100\n",
            "250/250 [==============================] - 0s 2ms/step - loss: 0.1625 - accuracy: 0.7959 - val_loss: 0.1615 - val_accuracy: 0.7975\n",
            "Epoch 45/100\n",
            "250/250 [==============================] - 0s 2ms/step - loss: 0.1633 - accuracy: 0.7945 - val_loss: 0.1615 - val_accuracy: 0.7975\n",
            "Epoch 46/100\n",
            "250/250 [==============================] - 0s 2ms/step - loss: 0.1615 - accuracy: 0.7975 - val_loss: 0.1615 - val_accuracy: 0.7975\n",
            "Epoch 47/100\n",
            "250/250 [==============================] - 0s 2ms/step - loss: 0.1602 - accuracy: 0.7997 - val_loss: 0.1615 - val_accuracy: 0.7975\n",
            "Epoch 48/100\n",
            "250/250 [==============================] - 0s 2ms/step - loss: 0.1663 - accuracy: 0.7893 - val_loss: 0.1615 - val_accuracy: 0.7975\n",
            "Epoch 49/100\n",
            "250/250 [==============================] - 0s 2ms/step - loss: 0.1616 - accuracy: 0.7973 - val_loss: 0.1615 - val_accuracy: 0.7975\n",
            "Epoch 50/100\n",
            "250/250 [==============================] - 0s 1ms/step - loss: 0.1593 - accuracy: 0.8012 - val_loss: 0.1615 - val_accuracy: 0.7975\n",
            "Epoch 51/100\n",
            "250/250 [==============================] - 0s 2ms/step - loss: 0.1621 - accuracy: 0.7965 - val_loss: 0.1615 - val_accuracy: 0.7975\n",
            "Epoch 52/100\n",
            "250/250 [==============================] - 0s 1ms/step - loss: 0.1633 - accuracy: 0.7944 - val_loss: 0.1615 - val_accuracy: 0.7975\n",
            "Epoch 53/100\n",
            "250/250 [==============================] - 0s 1ms/step - loss: 0.1640 - accuracy: 0.7932 - val_loss: 0.1615 - val_accuracy: 0.7975\n",
            "Epoch 54/100\n",
            "250/250 [==============================] - 0s 2ms/step - loss: 0.1593 - accuracy: 0.8012 - val_loss: 0.1615 - val_accuracy: 0.7975\n",
            "Epoch 55/100\n",
            "250/250 [==============================] - 0s 1ms/step - loss: 0.1632 - accuracy: 0.7945 - val_loss: 0.1615 - val_accuracy: 0.7975\n",
            "Epoch 56/100\n",
            "250/250 [==============================] - 0s 2ms/step - loss: 0.1615 - accuracy: 0.7974 - val_loss: 0.1615 - val_accuracy: 0.7975\n",
            "Epoch 57/100\n",
            "250/250 [==============================] - 0s 2ms/step - loss: 0.1649 - accuracy: 0.7916 - val_loss: 0.1615 - val_accuracy: 0.7975\n",
            "Epoch 58/100\n",
            "250/250 [==============================] - 0s 1ms/step - loss: 0.1619 - accuracy: 0.7968 - val_loss: 0.1615 - val_accuracy: 0.7975\n",
            "Epoch 59/100\n",
            "250/250 [==============================] - 0s 2ms/step - loss: 0.1549 - accuracy: 0.8087 - val_loss: 0.1615 - val_accuracy: 0.7975\n",
            "Epoch 60/100\n",
            "250/250 [==============================] - 0s 2ms/step - loss: 0.1656 - accuracy: 0.7906 - val_loss: 0.1615 - val_accuracy: 0.7975\n",
            "Epoch 61/100\n",
            "250/250 [==============================] - 0s 2ms/step - loss: 0.1641 - accuracy: 0.7930 - val_loss: 0.1615 - val_accuracy: 0.7975\n",
            "Epoch 62/100\n",
            "250/250 [==============================] - 0s 2ms/step - loss: 0.1592 - accuracy: 0.8014 - val_loss: 0.1615 - val_accuracy: 0.7975\n",
            "Epoch 63/100\n",
            "250/250 [==============================] - 0s 2ms/step - loss: 0.1619 - accuracy: 0.7967 - val_loss: 0.1615 - val_accuracy: 0.7975\n",
            "Epoch 64/100\n",
            "250/250 [==============================] - 0s 2ms/step - loss: 0.1604 - accuracy: 0.7992 - val_loss: 0.1615 - val_accuracy: 0.7975\n",
            "Epoch 65/100\n",
            "250/250 [==============================] - 0s 2ms/step - loss: 0.1629 - accuracy: 0.7951 - val_loss: 0.1615 - val_accuracy: 0.7975\n",
            "Epoch 66/100\n",
            "250/250 [==============================] - 0s 2ms/step - loss: 0.1562 - accuracy: 0.8063 - val_loss: 0.1615 - val_accuracy: 0.7975\n",
            "Epoch 67/100\n",
            "250/250 [==============================] - 0s 1ms/step - loss: 0.1626 - accuracy: 0.7956 - val_loss: 0.1615 - val_accuracy: 0.7975\n",
            "Epoch 68/100\n",
            "250/250 [==============================] - 0s 2ms/step - loss: 0.1650 - accuracy: 0.7915 - val_loss: 0.1615 - val_accuracy: 0.7975\n",
            "Epoch 69/100\n",
            "250/250 [==============================] - 0s 1ms/step - loss: 0.1630 - accuracy: 0.7950 - val_loss: 0.1615 - val_accuracy: 0.7975\n",
            "Epoch 70/100\n",
            "250/250 [==============================] - 0s 1ms/step - loss: 0.1659 - accuracy: 0.7899 - val_loss: 0.1615 - val_accuracy: 0.7975\n",
            "Epoch 71/100\n",
            "250/250 [==============================] - 0s 1ms/step - loss: 0.1624 - accuracy: 0.7959 - val_loss: 0.1615 - val_accuracy: 0.7975\n",
            "Epoch 72/100\n",
            "250/250 [==============================] - 0s 1ms/step - loss: 0.1660 - accuracy: 0.7898 - val_loss: 0.1615 - val_accuracy: 0.7975\n",
            "Epoch 73/100\n",
            "250/250 [==============================] - 0s 2ms/step - loss: 0.1599 - accuracy: 0.8002 - val_loss: 0.1615 - val_accuracy: 0.7975\n",
            "Epoch 74/100\n",
            "250/250 [==============================] - 0s 1ms/step - loss: 0.1630 - accuracy: 0.7949 - val_loss: 0.1615 - val_accuracy: 0.7975\n",
            "Epoch 75/100\n",
            "250/250 [==============================] - 0s 1ms/step - loss: 0.1575 - accuracy: 0.8043 - val_loss: 0.1615 - val_accuracy: 0.7975\n",
            "Epoch 76/100\n",
            "250/250 [==============================] - 0s 1ms/step - loss: 0.1650 - accuracy: 0.7915 - val_loss: 0.1615 - val_accuracy: 0.7975\n",
            "Epoch 77/100\n",
            "250/250 [==============================] - 0s 1ms/step - loss: 0.1560 - accuracy: 0.8068 - val_loss: 0.1615 - val_accuracy: 0.7975\n",
            "Epoch 78/100\n",
            "250/250 [==============================] - 0s 1ms/step - loss: 0.1628 - accuracy: 0.7953 - val_loss: 0.1615 - val_accuracy: 0.7975\n",
            "Epoch 79/100\n",
            "250/250 [==============================] - 0s 1ms/step - loss: 0.1654 - accuracy: 0.7909 - val_loss: 0.1615 - val_accuracy: 0.7975\n",
            "Epoch 80/100\n",
            "250/250 [==============================] - 0s 1ms/step - loss: 0.1585 - accuracy: 0.8025 - val_loss: 0.1615 - val_accuracy: 0.7975\n",
            "Epoch 81/100\n",
            "250/250 [==============================] - 0s 1ms/step - loss: 0.1681 - accuracy: 0.7863 - val_loss: 0.1615 - val_accuracy: 0.7975\n",
            "Epoch 82/100\n",
            "250/250 [==============================] - 0s 1ms/step - loss: 0.1621 - accuracy: 0.7963 - val_loss: 0.1615 - val_accuracy: 0.7975\n",
            "Epoch 83/100\n",
            "250/250 [==============================] - 0s 1ms/step - loss: 0.1627 - accuracy: 0.7954 - val_loss: 0.1615 - val_accuracy: 0.7975\n",
            "Epoch 84/100\n",
            "250/250 [==============================] - 0s 1ms/step - loss: 0.1630 - accuracy: 0.7949 - val_loss: 0.1615 - val_accuracy: 0.7975\n",
            "Epoch 85/100\n",
            "250/250 [==============================] - 0s 1ms/step - loss: 0.1651 - accuracy: 0.7914 - val_loss: 0.1615 - val_accuracy: 0.7975\n",
            "Epoch 86/100\n",
            "250/250 [==============================] - 1s 2ms/step - loss: 0.1626 - accuracy: 0.7956 - val_loss: 0.1615 - val_accuracy: 0.7975\n",
            "Epoch 87/100\n",
            "250/250 [==============================] - 0s 1ms/step - loss: 0.1610 - accuracy: 0.7983 - val_loss: 0.1614 - val_accuracy: 0.7975\n",
            "Epoch 88/100\n",
            "250/250 [==============================] - 0s 1ms/step - loss: 0.1655 - accuracy: 0.7907 - val_loss: 0.1614 - val_accuracy: 0.7975\n",
            "Epoch 89/100\n",
            "250/250 [==============================] - 0s 1ms/step - loss: 0.1626 - accuracy: 0.7955 - val_loss: 0.1614 - val_accuracy: 0.7975\n",
            "Epoch 90/100\n",
            "250/250 [==============================] - 0s 1ms/step - loss: 0.1660 - accuracy: 0.7897 - val_loss: 0.1614 - val_accuracy: 0.7975\n",
            "Epoch 91/100\n",
            "250/250 [==============================] - 0s 1ms/step - loss: 0.1644 - accuracy: 0.7926 - val_loss: 0.1614 - val_accuracy: 0.7975\n",
            "Epoch 92/100\n",
            "250/250 [==============================] - 0s 1ms/step - loss: 0.1591 - accuracy: 0.8015 - val_loss: 0.1614 - val_accuracy: 0.7975\n",
            "Epoch 93/100\n",
            "250/250 [==============================] - 0s 1ms/step - loss: 0.1635 - accuracy: 0.7941 - val_loss: 0.1614 - val_accuracy: 0.7975\n",
            "Epoch 94/100\n",
            "250/250 [==============================] - 0s 1ms/step - loss: 0.1569 - accuracy: 0.8051 - val_loss: 0.1614 - val_accuracy: 0.7975\n",
            "Epoch 95/100\n",
            "250/250 [==============================] - 0s 1ms/step - loss: 0.1637 - accuracy: 0.7937 - val_loss: 0.1614 - val_accuracy: 0.7975\n",
            "Epoch 96/100\n",
            "250/250 [==============================] - 0s 2ms/step - loss: 0.1588 - accuracy: 0.8019 - val_loss: 0.1614 - val_accuracy: 0.7975\n",
            "Epoch 97/100\n",
            "250/250 [==============================] - 0s 1ms/step - loss: 0.1615 - accuracy: 0.7973 - val_loss: 0.1614 - val_accuracy: 0.7975\n",
            "Epoch 98/100\n",
            "250/250 [==============================] - 0s 1ms/step - loss: 0.1641 - accuracy: 0.7930 - val_loss: 0.1614 - val_accuracy: 0.7975\n",
            "Epoch 99/100\n",
            "250/250 [==============================] - 0s 1ms/step - loss: 0.1641 - accuracy: 0.7930 - val_loss: 0.1614 - val_accuracy: 0.7975\n",
            "Epoch 100/100\n",
            "250/250 [==============================] - 0s 1ms/step - loss: 0.1588 - accuracy: 0.8019 - val_loss: 0.1614 - val_accuracy: 0.7975\n"
          ],
          "name": "stdout"
        },
        {
          "output_type": "execute_result",
          "data": {
            "text/plain": [
              "<tensorflow.python.keras.callbacks.History at 0x7f39aa102828>"
            ]
          },
          "metadata": {
            "tags": []
          },
          "execution_count": 176
        }
      ]
    },
    {
      "cell_type": "markdown",
      "metadata": {
        "id": "il6Kmob4HUQi"
      },
      "source": [
        "#### Predict the results using 0.5 as a threshold"
      ]
    },
    {
      "cell_type": "code",
      "metadata": {
        "colab": {
          "base_uri": "https://localhost:8080/"
        },
        "id": "A7-PkHlvHUQk",
        "outputId": "c6c8a0e4-c66e-4eb3-baba-a7bd6d525243"
      },
      "source": [
        "y_pred = classifier.predict(X_test)\n",
        "print(y_pred)"
      ],
      "execution_count": null,
      "outputs": [
        {
          "output_type": "stream",
          "text": [
            "[[0.20384857]\n",
            " [0.20413047]\n",
            " [0.20374611]\n",
            " ...\n",
            " [0.2039234 ]\n",
            " [0.20379254]\n",
            " [0.20367426]]\n"
          ],
          "name": "stdout"
        }
      ]
    },
    {
      "cell_type": "code",
      "metadata": {
        "colab": {
          "base_uri": "https://localhost:8080/"
        },
        "id": "C70m541dHUQo",
        "outputId": "d0d29cdd-0296-4d40-8462-a109021be1b8"
      },
      "source": [
        "# To use the confusion Matrix, we need to convert the probabilities that a customer will leave the bank into the form true or false. \n",
        "# So we will use the cutoff value 0.5 to indicate whether they are likely to exit or not.\n",
        "y_pred = (y_pred > 0.5)\n",
        "print(y_pred)"
      ],
      "execution_count": null,
      "outputs": [
        {
          "output_type": "stream",
          "text": [
            "[[False]\n",
            " [False]\n",
            " [False]\n",
            " ...\n",
            " [False]\n",
            " [False]\n",
            " [False]]\n"
          ],
          "name": "stdout"
        }
      ]
    },
    {
      "cell_type": "markdown",
      "metadata": {
        "id": "E4DXFj4LHUQr"
      },
      "source": [
        "#### Print the Accuracy score and confusion matrix"
      ]
    },
    {
      "cell_type": "code",
      "metadata": {
        "colab": {
          "base_uri": "https://localhost:8080/"
        },
        "id": "Mg32MO2OHUQs",
        "outputId": "a2b89c5c-c5e7-438f-fb8f-56e2ffb93f16"
      },
      "source": [
        "cm1 = confusion_matrix(y_test, y_pred)\n",
        "print(cm1)"
      ],
      "execution_count": null,
      "outputs": [
        {
          "output_type": "stream",
          "text": [
            "[[1595    0]\n",
            " [ 405    0]]\n"
          ],
          "name": "stdout"
        }
      ]
    },
    {
      "cell_type": "code",
      "metadata": {
        "colab": {
          "base_uri": "https://localhost:8080/"
        },
        "id": "Sm9XiMdxHUQw",
        "outputId": "7465e99c-46f4-4899-b2f1-08de41fbb317"
      },
      "source": [
        "accuracy_model1 = ((cm1[0][0]+cm1[1][1])*100)/(cm1[0][0]+cm1[1][1]+cm1[0][1]+cm1[1][0])\n",
        "print (accuracy_model1, '% of testing data was classified correctly')"
      ],
      "execution_count": null,
      "outputs": [
        {
          "output_type": "stream",
          "text": [
            "79.75 % of testing data was classified correctly\n"
          ],
          "name": "stdout"
        }
      ]
    },
    {
      "cell_type": "markdown",
      "metadata": {
        "id": "chY3sKXrHUQ0"
      },
      "source": [
        "#### Optimize the model"
      ]
    },
    {
      "cell_type": "markdown",
      "metadata": {
        "id": "RH9SySidHUQ1"
      },
      "source": [
        "Some important parameters to look out for while optimizing neural networks are:\n",
        "\n",
        "-Type of architecture\n",
        "\n",
        "-Number of Layers\n",
        "\n",
        "-Number of Neurons in a layer\n",
        "\n",
        "-Regularization parameters\n",
        "\n",
        "-Learning Rate\n",
        "\n",
        "-Type of optimization / backpropagation technique to use\n",
        "\n",
        "-Dropout rate\n",
        "\n",
        "-Weight sharing"
      ]
    },
    {
      "cell_type": "markdown",
      "metadata": {
        "id": "wWFZuawVHUQ3"
      },
      "source": [
        "##### Number of Layers:\n",
        "We will keep it similar to the above model so that we can compare the accuracy.\n",
        "1 hidden layer.\n",
        "\n",
        "##### Activation:\n",
        "input layer: relu becasue we are in an input layer. uses the ReLu activation function for  ϕ\n",
        "output layer: sigmoid becasue we are in an output layer. uses the Sigmoid activation function for  ϕ . This is used instead of the ReLu function becasue it generates probabilities for the outcome. We want the probability that each customer leaves the bank.\n",
        "\n",
        "##### Type of optimization / backpropagation technique to use: \n",
        "We will use Adam. Adam is a very efficeint variation of Stochastic Gradient Descent. For Adam and its variant, learning rate or the decay rate does not really matter too much.\n",
        "\n",
        "##### Learning Rate:\n",
        "default learning rate 0.001.\n",
        "\n",
        "##### Number of Neurons in a layer:\n",
        "We will keep it 6 as per our initial calculation above.\n",
        "\n",
        "##### Weight sharing / kernel_initializer: \n",
        "uniform the distribution with which we randomly initialize weights for the nodes in this layer.\n",
        "\n",
        "##### Loss:\n",
        "loss: binary_crossentropy This is the loss function used within adam. This should be the logarthmic loss. If our dependent (output variable) is Binary, it is binary_crossentropy. If Categorical, then it is called categorical_crossentropy\n",
        "\n",
        "Rebuilding the model using these optimised parameters"
      ]
    },
    {
      "cell_type": "code",
      "metadata": {
        "id": "xrWiY4uRHURB"
      },
      "source": [
        "# Initializing the ANN\n",
        "Oclassifier = Sequential()\n",
        "# This adds the input layer (by specifying input dimension) AND the first hidden layer (units)\n",
        "Oclassifier.add(Dense(activation = 'relu', input_dim = 11, units=6, kernel_initializer='uniform'))"
      ],
      "execution_count": null,
      "outputs": []
    },
    {
      "cell_type": "code",
      "metadata": {
        "id": "VRO3Pf80HURF"
      },
      "source": [
        "# Adding the hidden layer\n",
        "# Notice that we do not need to specify input dim. \n",
        "Oclassifier.add(Dense(activation = 'relu', units=6, kernel_initializer='uniform')) "
      ],
      "execution_count": null,
      "outputs": []
    },
    {
      "cell_type": "code",
      "metadata": {
        "id": "TtBNdW3mHURI"
      },
      "source": [
        "# Adding the output layer\n",
        "# Notice that we do not need to specify input dim. \n",
        "# we have an output of 1 node, which is the the desired dimensions of our output (stay with the bank or not)\n",
        "# We use the sigmoid because we want probability outcomes\n",
        "Oclassifier.add(Dense(activation = 'sigmoid', units=1, kernel_initializer='uniform')) "
      ],
      "execution_count": null,
      "outputs": []
    },
    {
      "cell_type": "code",
      "metadata": {
        "id": "x0p8AWY9HURM"
      },
      "source": [
        "Oclassifier.compile(optimizer='adam', loss = 'binary_crossentropy', metrics=['accuracy'])"
      ],
      "execution_count": null,
      "outputs": []
    },
    {
      "cell_type": "code",
      "metadata": {
        "colab": {
          "base_uri": "https://localhost:8080/"
        },
        "id": "jc2ADej18pcg",
        "outputId": "59522589-4fa6-4666-bf0a-191eccb60c70"
      },
      "source": [
        "Oclassifier.summary()"
      ],
      "execution_count": null,
      "outputs": [
        {
          "output_type": "stream",
          "text": [
            "Model: \"sequential_1\"\n",
            "_________________________________________________________________\n",
            "Layer (type)                 Output Shape              Param #   \n",
            "=================================================================\n",
            "dense_3 (Dense)              (None, 6)                 72        \n",
            "_________________________________________________________________\n",
            "dense_4 (Dense)              (None, 6)                 42        \n",
            "_________________________________________________________________\n",
            "dense_5 (Dense)              (None, 1)                 7         \n",
            "=================================================================\n",
            "Total params: 121\n",
            "Trainable params: 121\n",
            "Non-trainable params: 0\n",
            "_________________________________________________________________\n"
          ],
          "name": "stdout"
        }
      ]
    },
    {
      "cell_type": "code",
      "metadata": {
        "colab": {
          "base_uri": "https://localhost:8080/"
        },
        "id": "AZMV81S5HURR",
        "outputId": "bb210ec8-6af2-4739-d04c-e0e071e7c5f0"
      },
      "source": [
        "Omodel = Oclassifier.fit(X_train, y_train,           \n",
        "          validation_data=(X_test,y_test),\n",
        "          epochs=100,\n",
        "          batch_size=32)"
      ],
      "execution_count": null,
      "outputs": [
        {
          "output_type": "stream",
          "text": [
            "Epoch 1/100\n",
            "250/250 [==============================] - 0s 2ms/step - loss: 0.3996 - accuracy: 0.8356 - val_loss: 0.3970 - val_accuracy: 0.8415\n",
            "Epoch 2/100\n",
            "250/250 [==============================] - 0s 2ms/step - loss: 0.3997 - accuracy: 0.8359 - val_loss: 0.3975 - val_accuracy: 0.8430\n",
            "Epoch 3/100\n",
            "250/250 [==============================] - 0s 1ms/step - loss: 0.3998 - accuracy: 0.8355 - val_loss: 0.4000 - val_accuracy: 0.8425\n",
            "Epoch 4/100\n",
            "250/250 [==============================] - 0s 2ms/step - loss: 0.3999 - accuracy: 0.8354 - val_loss: 0.3984 - val_accuracy: 0.8440\n",
            "Epoch 5/100\n",
            "250/250 [==============================] - 0s 1ms/step - loss: 0.3998 - accuracy: 0.8366 - val_loss: 0.3981 - val_accuracy: 0.8435\n",
            "Epoch 6/100\n",
            "250/250 [==============================] - 0s 1ms/step - loss: 0.3994 - accuracy: 0.8360 - val_loss: 0.3973 - val_accuracy: 0.8420\n",
            "Epoch 7/100\n",
            "250/250 [==============================] - 0s 1ms/step - loss: 0.3996 - accuracy: 0.8360 - val_loss: 0.3976 - val_accuracy: 0.8425\n",
            "Epoch 8/100\n",
            "250/250 [==============================] - 0s 1ms/step - loss: 0.3996 - accuracy: 0.8365 - val_loss: 0.3975 - val_accuracy: 0.8440\n",
            "Epoch 9/100\n",
            "250/250 [==============================] - 0s 1ms/step - loss: 0.3994 - accuracy: 0.8341 - val_loss: 0.3975 - val_accuracy: 0.8420\n",
            "Epoch 10/100\n",
            "250/250 [==============================] - 0s 1ms/step - loss: 0.3996 - accuracy: 0.8354 - val_loss: 0.3973 - val_accuracy: 0.8435\n",
            "Epoch 11/100\n",
            "250/250 [==============================] - 0s 2ms/step - loss: 0.3996 - accuracy: 0.8361 - val_loss: 0.3979 - val_accuracy: 0.8445\n",
            "Epoch 12/100\n",
            "250/250 [==============================] - 0s 1ms/step - loss: 0.3996 - accuracy: 0.8372 - val_loss: 0.3989 - val_accuracy: 0.8430\n",
            "Epoch 13/100\n",
            "250/250 [==============================] - 0s 2ms/step - loss: 0.3994 - accuracy: 0.8365 - val_loss: 0.3981 - val_accuracy: 0.8420\n",
            "Epoch 14/100\n",
            "250/250 [==============================] - 0s 2ms/step - loss: 0.3996 - accuracy: 0.8355 - val_loss: 0.3974 - val_accuracy: 0.8440\n",
            "Epoch 15/100\n",
            "250/250 [==============================] - 0s 1ms/step - loss: 0.3989 - accuracy: 0.8350 - val_loss: 0.3975 - val_accuracy: 0.8435\n",
            "Epoch 16/100\n",
            "250/250 [==============================] - 0s 1ms/step - loss: 0.3996 - accuracy: 0.8350 - val_loss: 0.3978 - val_accuracy: 0.8445\n",
            "Epoch 17/100\n",
            "250/250 [==============================] - 0s 1ms/step - loss: 0.3994 - accuracy: 0.8353 - val_loss: 0.3983 - val_accuracy: 0.8445\n",
            "Epoch 18/100\n",
            "250/250 [==============================] - 0s 1ms/step - loss: 0.3994 - accuracy: 0.8369 - val_loss: 0.3964 - val_accuracy: 0.8430\n",
            "Epoch 19/100\n",
            "250/250 [==============================] - 0s 1ms/step - loss: 0.3997 - accuracy: 0.8367 - val_loss: 0.3966 - val_accuracy: 0.8420\n",
            "Epoch 20/100\n",
            "250/250 [==============================] - 0s 1ms/step - loss: 0.3994 - accuracy: 0.8369 - val_loss: 0.3980 - val_accuracy: 0.8450\n",
            "Epoch 21/100\n",
            "250/250 [==============================] - 0s 2ms/step - loss: 0.3995 - accuracy: 0.8366 - val_loss: 0.3970 - val_accuracy: 0.8430\n",
            "Epoch 22/100\n",
            "250/250 [==============================] - 0s 1ms/step - loss: 0.3992 - accuracy: 0.8365 - val_loss: 0.3974 - val_accuracy: 0.8445\n",
            "Epoch 23/100\n",
            "250/250 [==============================] - 0s 2ms/step - loss: 0.3992 - accuracy: 0.8369 - val_loss: 0.3985 - val_accuracy: 0.8435\n",
            "Epoch 24/100\n",
            "250/250 [==============================] - 0s 1ms/step - loss: 0.3992 - accuracy: 0.8371 - val_loss: 0.3972 - val_accuracy: 0.8420\n",
            "Epoch 25/100\n",
            "250/250 [==============================] - 0s 1ms/step - loss: 0.3992 - accuracy: 0.8345 - val_loss: 0.3976 - val_accuracy: 0.8415\n",
            "Epoch 26/100\n",
            "250/250 [==============================] - 0s 2ms/step - loss: 0.3993 - accuracy: 0.8355 - val_loss: 0.3988 - val_accuracy: 0.8460\n",
            "Epoch 27/100\n",
            "250/250 [==============================] - 0s 1ms/step - loss: 0.3993 - accuracy: 0.8369 - val_loss: 0.3974 - val_accuracy: 0.8420\n",
            "Epoch 28/100\n",
            "250/250 [==============================] - 0s 1ms/step - loss: 0.3994 - accuracy: 0.8364 - val_loss: 0.3981 - val_accuracy: 0.8435\n",
            "Epoch 29/100\n",
            "250/250 [==============================] - 0s 1ms/step - loss: 0.3993 - accuracy: 0.8367 - val_loss: 0.3977 - val_accuracy: 0.8435\n",
            "Epoch 30/100\n",
            "250/250 [==============================] - 0s 1ms/step - loss: 0.3993 - accuracy: 0.8359 - val_loss: 0.3972 - val_accuracy: 0.8435\n",
            "Epoch 31/100\n",
            "250/250 [==============================] - 0s 1ms/step - loss: 0.3992 - accuracy: 0.8356 - val_loss: 0.3984 - val_accuracy: 0.8420\n",
            "Epoch 32/100\n",
            "250/250 [==============================] - 0s 1ms/step - loss: 0.3994 - accuracy: 0.8363 - val_loss: 0.3981 - val_accuracy: 0.8440\n",
            "Epoch 33/100\n",
            "250/250 [==============================] - 0s 1ms/step - loss: 0.3995 - accuracy: 0.8356 - val_loss: 0.3974 - val_accuracy: 0.8425\n",
            "Epoch 34/100\n",
            "250/250 [==============================] - 0s 1ms/step - loss: 0.3995 - accuracy: 0.8356 - val_loss: 0.3973 - val_accuracy: 0.8450\n",
            "Epoch 35/100\n",
            "250/250 [==============================] - 0s 1ms/step - loss: 0.3993 - accuracy: 0.8365 - val_loss: 0.3976 - val_accuracy: 0.8410\n",
            "Epoch 36/100\n",
            "250/250 [==============================] - 0s 1ms/step - loss: 0.3992 - accuracy: 0.8365 - val_loss: 0.3978 - val_accuracy: 0.8440\n",
            "Epoch 37/100\n",
            "250/250 [==============================] - 0s 2ms/step - loss: 0.3992 - accuracy: 0.8370 - val_loss: 0.3976 - val_accuracy: 0.8440\n",
            "Epoch 38/100\n",
            "250/250 [==============================] - 0s 1ms/step - loss: 0.3992 - accuracy: 0.8357 - val_loss: 0.3974 - val_accuracy: 0.8445\n",
            "Epoch 39/100\n",
            "250/250 [==============================] - 0s 1ms/step - loss: 0.3992 - accuracy: 0.8350 - val_loss: 0.3969 - val_accuracy: 0.8420\n",
            "Epoch 40/100\n",
            "250/250 [==============================] - 0s 2ms/step - loss: 0.3992 - accuracy: 0.8381 - val_loss: 0.3986 - val_accuracy: 0.8450\n",
            "Epoch 41/100\n",
            "250/250 [==============================] - 0s 1ms/step - loss: 0.3989 - accuracy: 0.8367 - val_loss: 0.3971 - val_accuracy: 0.8430\n",
            "Epoch 42/100\n",
            "250/250 [==============================] - 0s 2ms/step - loss: 0.3997 - accuracy: 0.8347 - val_loss: 0.3966 - val_accuracy: 0.8445\n",
            "Epoch 43/100\n",
            "250/250 [==============================] - 0s 1ms/step - loss: 0.3990 - accuracy: 0.8356 - val_loss: 0.3974 - val_accuracy: 0.8425\n",
            "Epoch 44/100\n",
            "250/250 [==============================] - 0s 1ms/step - loss: 0.3991 - accuracy: 0.8370 - val_loss: 0.3971 - val_accuracy: 0.8435\n",
            "Epoch 45/100\n",
            "250/250 [==============================] - 0s 1ms/step - loss: 0.3992 - accuracy: 0.8367 - val_loss: 0.3989 - val_accuracy: 0.8470\n",
            "Epoch 46/100\n",
            "250/250 [==============================] - 0s 1ms/step - loss: 0.3993 - accuracy: 0.8350 - val_loss: 0.3989 - val_accuracy: 0.8450\n",
            "Epoch 47/100\n",
            "250/250 [==============================] - 0s 1ms/step - loss: 0.3988 - accuracy: 0.8375 - val_loss: 0.3974 - val_accuracy: 0.8435\n",
            "Epoch 48/100\n",
            "250/250 [==============================] - 0s 1ms/step - loss: 0.3993 - accuracy: 0.8355 - val_loss: 0.3976 - val_accuracy: 0.8450\n",
            "Epoch 49/100\n",
            "250/250 [==============================] - 0s 1ms/step - loss: 0.3992 - accuracy: 0.8353 - val_loss: 0.3978 - val_accuracy: 0.8465\n",
            "Epoch 50/100\n",
            "250/250 [==============================] - 0s 1ms/step - loss: 0.3989 - accuracy: 0.8359 - val_loss: 0.3992 - val_accuracy: 0.8485\n",
            "Epoch 51/100\n",
            "250/250 [==============================] - 0s 2ms/step - loss: 0.3992 - accuracy: 0.8360 - val_loss: 0.3977 - val_accuracy: 0.8450\n",
            "Epoch 52/100\n",
            "250/250 [==============================] - 0s 1ms/step - loss: 0.3995 - accuracy: 0.8357 - val_loss: 0.3977 - val_accuracy: 0.8470\n",
            "Epoch 53/100\n",
            "250/250 [==============================] - 0s 2ms/step - loss: 0.3993 - accuracy: 0.8359 - val_loss: 0.3973 - val_accuracy: 0.8445\n",
            "Epoch 54/100\n",
            "250/250 [==============================] - 0s 2ms/step - loss: 0.3990 - accuracy: 0.8365 - val_loss: 0.3990 - val_accuracy: 0.8420\n",
            "Epoch 55/100\n",
            "250/250 [==============================] - 0s 1ms/step - loss: 0.3997 - accuracy: 0.8354 - val_loss: 0.3983 - val_accuracy: 0.8445\n",
            "Epoch 56/100\n",
            "250/250 [==============================] - 0s 2ms/step - loss: 0.3989 - accuracy: 0.8359 - val_loss: 0.3997 - val_accuracy: 0.8430\n",
            "Epoch 57/100\n",
            "250/250 [==============================] - 0s 1ms/step - loss: 0.3990 - accuracy: 0.8356 - val_loss: 0.3981 - val_accuracy: 0.8430\n",
            "Epoch 58/100\n",
            "250/250 [==============================] - 0s 1ms/step - loss: 0.3990 - accuracy: 0.8375 - val_loss: 0.3980 - val_accuracy: 0.8475\n",
            "Epoch 59/100\n",
            "250/250 [==============================] - 0s 2ms/step - loss: 0.3990 - accuracy: 0.8354 - val_loss: 0.3977 - val_accuracy: 0.8435\n",
            "Epoch 60/100\n",
            "250/250 [==============================] - 1s 2ms/step - loss: 0.3993 - accuracy: 0.8351 - val_loss: 0.3978 - val_accuracy: 0.8430\n",
            "Epoch 61/100\n",
            "250/250 [==============================] - 0s 1ms/step - loss: 0.3989 - accuracy: 0.8350 - val_loss: 0.4001 - val_accuracy: 0.8440\n",
            "Epoch 62/100\n",
            "250/250 [==============================] - 0s 1ms/step - loss: 0.3993 - accuracy: 0.8357 - val_loss: 0.3990 - val_accuracy: 0.8470\n",
            "Epoch 63/100\n",
            "250/250 [==============================] - 0s 1ms/step - loss: 0.3987 - accuracy: 0.8366 - val_loss: 0.3963 - val_accuracy: 0.8420\n",
            "Epoch 64/100\n",
            "250/250 [==============================] - 0s 1ms/step - loss: 0.3994 - accuracy: 0.8360 - val_loss: 0.3969 - val_accuracy: 0.8435\n",
            "Epoch 65/100\n",
            "250/250 [==============================] - 0s 1ms/step - loss: 0.3992 - accuracy: 0.8357 - val_loss: 0.3968 - val_accuracy: 0.8435\n",
            "Epoch 66/100\n",
            "250/250 [==============================] - 0s 1ms/step - loss: 0.3991 - accuracy: 0.8347 - val_loss: 0.3972 - val_accuracy: 0.8455\n",
            "Epoch 67/100\n",
            "250/250 [==============================] - 0s 2ms/step - loss: 0.3993 - accuracy: 0.8344 - val_loss: 0.3981 - val_accuracy: 0.8450\n",
            "Epoch 68/100\n",
            "250/250 [==============================] - 0s 2ms/step - loss: 0.3989 - accuracy: 0.8359 - val_loss: 0.3964 - val_accuracy: 0.8415\n",
            "Epoch 69/100\n",
            "250/250 [==============================] - 0s 1ms/step - loss: 0.3992 - accuracy: 0.8350 - val_loss: 0.3982 - val_accuracy: 0.8440\n",
            "Epoch 70/100\n",
            "250/250 [==============================] - 0s 2ms/step - loss: 0.3993 - accuracy: 0.8353 - val_loss: 0.3977 - val_accuracy: 0.8425\n",
            "Epoch 71/100\n",
            "250/250 [==============================] - 0s 1ms/step - loss: 0.3995 - accuracy: 0.8366 - val_loss: 0.3979 - val_accuracy: 0.8435\n",
            "Epoch 72/100\n",
            "250/250 [==============================] - 0s 1ms/step - loss: 0.3991 - accuracy: 0.8350 - val_loss: 0.3977 - val_accuracy: 0.8450\n",
            "Epoch 73/100\n",
            "250/250 [==============================] - 0s 1ms/step - loss: 0.3992 - accuracy: 0.8369 - val_loss: 0.3978 - val_accuracy: 0.8425\n",
            "Epoch 74/100\n",
            "250/250 [==============================] - 0s 1ms/step - loss: 0.3991 - accuracy: 0.8344 - val_loss: 0.3980 - val_accuracy: 0.8435\n",
            "Epoch 75/100\n",
            "250/250 [==============================] - 0s 1ms/step - loss: 0.3987 - accuracy: 0.8356 - val_loss: 0.4012 - val_accuracy: 0.8435\n",
            "Epoch 76/100\n",
            "250/250 [==============================] - 0s 1ms/step - loss: 0.3989 - accuracy: 0.8370 - val_loss: 0.3972 - val_accuracy: 0.8420\n",
            "Epoch 77/100\n",
            "250/250 [==============================] - 0s 1ms/step - loss: 0.3990 - accuracy: 0.8367 - val_loss: 0.3981 - val_accuracy: 0.8400\n",
            "Epoch 78/100\n",
            "250/250 [==============================] - 0s 2ms/step - loss: 0.3989 - accuracy: 0.8374 - val_loss: 0.3983 - val_accuracy: 0.8470\n",
            "Epoch 79/100\n",
            "250/250 [==============================] - 0s 1ms/step - loss: 0.3991 - accuracy: 0.8357 - val_loss: 0.3974 - val_accuracy: 0.8445\n",
            "Epoch 80/100\n",
            "250/250 [==============================] - 0s 2ms/step - loss: 0.3989 - accuracy: 0.8351 - val_loss: 0.3985 - val_accuracy: 0.8425\n",
            "Epoch 81/100\n",
            "250/250 [==============================] - 0s 1ms/step - loss: 0.3990 - accuracy: 0.8355 - val_loss: 0.3978 - val_accuracy: 0.8435\n",
            "Epoch 82/100\n",
            "250/250 [==============================] - 0s 1ms/step - loss: 0.3988 - accuracy: 0.8363 - val_loss: 0.3983 - val_accuracy: 0.8445\n",
            "Epoch 83/100\n",
            "250/250 [==============================] - 0s 2ms/step - loss: 0.3990 - accuracy: 0.8356 - val_loss: 0.3971 - val_accuracy: 0.8425\n",
            "Epoch 84/100\n",
            "250/250 [==============================] - 0s 1ms/step - loss: 0.3987 - accuracy: 0.8359 - val_loss: 0.3964 - val_accuracy: 0.8410\n",
            "Epoch 85/100\n",
            "250/250 [==============================] - 0s 2ms/step - loss: 0.3990 - accuracy: 0.8346 - val_loss: 0.3973 - val_accuracy: 0.8460\n",
            "Epoch 86/100\n",
            "250/250 [==============================] - 0s 1ms/step - loss: 0.3989 - accuracy: 0.8360 - val_loss: 0.3972 - val_accuracy: 0.8440\n",
            "Epoch 87/100\n",
            "250/250 [==============================] - 0s 2ms/step - loss: 0.3992 - accuracy: 0.8361 - val_loss: 0.3972 - val_accuracy: 0.8460\n",
            "Epoch 88/100\n",
            "250/250 [==============================] - 0s 1ms/step - loss: 0.3990 - accuracy: 0.8355 - val_loss: 0.3978 - val_accuracy: 0.8460\n",
            "Epoch 89/100\n",
            "250/250 [==============================] - 0s 2ms/step - loss: 0.3988 - accuracy: 0.8361 - val_loss: 0.3996 - val_accuracy: 0.8420\n",
            "Epoch 90/100\n",
            "250/250 [==============================] - 0s 1ms/step - loss: 0.3991 - accuracy: 0.8357 - val_loss: 0.3978 - val_accuracy: 0.8395\n",
            "Epoch 91/100\n",
            "250/250 [==============================] - 0s 2ms/step - loss: 0.3991 - accuracy: 0.8360 - val_loss: 0.3974 - val_accuracy: 0.8445\n",
            "Epoch 92/100\n",
            "250/250 [==============================] - 0s 2ms/step - loss: 0.3988 - accuracy: 0.8360 - val_loss: 0.3971 - val_accuracy: 0.8435\n",
            "Epoch 93/100\n",
            "250/250 [==============================] - 0s 1ms/step - loss: 0.3988 - accuracy: 0.8356 - val_loss: 0.3972 - val_accuracy: 0.8450\n",
            "Epoch 94/100\n",
            "250/250 [==============================] - 0s 2ms/step - loss: 0.3987 - accuracy: 0.8350 - val_loss: 0.3985 - val_accuracy: 0.8425\n",
            "Epoch 95/100\n",
            "250/250 [==============================] - 0s 1ms/step - loss: 0.3991 - accuracy: 0.8363 - val_loss: 0.3985 - val_accuracy: 0.8415\n",
            "Epoch 96/100\n",
            "250/250 [==============================] - 0s 2ms/step - loss: 0.3990 - accuracy: 0.8346 - val_loss: 0.3972 - val_accuracy: 0.8470\n",
            "Epoch 97/100\n",
            "250/250 [==============================] - 0s 1ms/step - loss: 0.3987 - accuracy: 0.8361 - val_loss: 0.3966 - val_accuracy: 0.8425\n",
            "Epoch 98/100\n",
            "250/250 [==============================] - 0s 1ms/step - loss: 0.3990 - accuracy: 0.8374 - val_loss: 0.3972 - val_accuracy: 0.8445\n",
            "Epoch 99/100\n",
            "250/250 [==============================] - 0s 2ms/step - loss: 0.3986 - accuracy: 0.8369 - val_loss: 0.3968 - val_accuracy: 0.8435\n",
            "Epoch 100/100\n",
            "250/250 [==============================] - 0s 2ms/step - loss: 0.3985 - accuracy: 0.8359 - val_loss: 0.3977 - val_accuracy: 0.8440\n"
          ],
          "name": "stdout"
        }
      ]
    },
    {
      "cell_type": "code",
      "metadata": {
        "colab": {
          "base_uri": "https://localhost:8080/",
          "height": 590
        },
        "id": "Wj2x0rN01qt3",
        "outputId": "c13aed97-dfa9-40ed-cf76-1cdbea6b8b4b"
      },
      "source": [
        "print(Omodel.history.keys())\r\n",
        "# summarize history for accuracy\r\n",
        "plt.plot(Omodel.history['accuracy'])\r\n",
        "plt.plot(Omodel.history['val_accuracy'])\r\n",
        "plt.title('model accuracy')\r\n",
        "plt.ylabel('accuracy')\r\n",
        "plt.xlabel('epoch')\r\n",
        "plt.legend(['train', 'test'], loc='upper left')\r\n",
        "plt.show()\r\n",
        "# summarize history for loss\r\n",
        "plt.plot(Omodel.history['loss'])\r\n",
        "plt.plot(Omodel.history['val_loss'])\r\n",
        "plt.title('model loss')\r\n",
        "plt.ylabel('loss')\r\n",
        "plt.xlabel('epoch')\r\n",
        "plt.legend(['train', 'test'], loc='upper left')\r\n",
        "plt.show()"
      ],
      "execution_count": null,
      "outputs": [
        {
          "output_type": "stream",
          "text": [
            "dict_keys(['loss', 'accuracy', 'val_loss', 'val_accuracy'])\n"
          ],
          "name": "stdout"
        },
        {
          "output_type": "display_data",
          "data": {
            "image/png": "[encoded data removed]",
            "text/plain": [
              "<Figure size 432x288 with 1 Axes>"
            ]
          },
          "metadata": {
            "tags": [],
            "needs_background": "light"
          }
        },
        {
          "output_type": "display_data",
          "data": {
            "image/png": "[encoded data removed]",
            "text/plain": [
              "<Figure size 432x288 with 1 Axes>"
            ]
          },
          "metadata": {
            "tags": [],
            "needs_background": "light"
          }
        }
      ]
    },
    {
      "cell_type": "markdown",
      "metadata": {
        "id": "ptZLKhZ0HURX"
      },
      "source": [
        "#### Predict the results using 0.5 as a threshold"
      ]
    },
    {
      "cell_type": "code",
      "metadata": {
        "colab": {
          "base_uri": "https://localhost:8080/"
        },
        "id": "GttaoUVkHURZ",
        "outputId": "4ca28c4f-42bf-44e1-a6f1-a02dc0783eab"
      },
      "source": [
        "y_pred = Oclassifier.predict(X_test)\n",
        "print(y_pred)"
      ],
      "execution_count": null,
      "outputs": [
        {
          "output_type": "stream",
          "text": [
            "[[0.23899522]\n",
            " [0.37020344]\n",
            " [0.1461854 ]\n",
            " ...\n",
            " [0.1817734 ]\n",
            " [0.18017903]\n",
            " [0.12245449]]\n"
          ],
          "name": "stdout"
        }
      ]
    },
    {
      "cell_type": "code",
      "metadata": {
        "colab": {
          "base_uri": "https://localhost:8080/"
        },
        "id": "nPwZePRlHURf",
        "outputId": "41b2a059-4154-40e5-d863-5a9db92af6df"
      },
      "source": [
        "# To use the confusion Matrix, we need to convert the probabilities that a customer will leave the bank into the form true or false. \n",
        "# So we will use the cutoff value 0.5 to indicate whether they are likely to exit or not.\n",
        "y_pred = (y_pred > 0.5)\n",
        "print(y_pred)"
      ],
      "execution_count": null,
      "outputs": [
        {
          "output_type": "stream",
          "text": [
            "[[False]\n",
            " [False]\n",
            " [False]\n",
            " ...\n",
            " [False]\n",
            " [False]\n",
            " [False]]\n"
          ],
          "name": "stdout"
        }
      ]
    },
    {
      "cell_type": "markdown",
      "metadata": {
        "id": "APzf2XxgHURk"
      },
      "source": [
        "#### Print the Accuracy score and confusion matrix"
      ]
    },
    {
      "cell_type": "code",
      "metadata": {
        "colab": {
          "base_uri": "https://localhost:8080/"
        },
        "id": "8kC2hKKdHURm",
        "outputId": "8e00f11d-85a3-4b81-dc22-7d02d48ee323"
      },
      "source": [
        "cm2 = confusion_matrix(y_test, y_pred)\n",
        "print(cm2)"
      ],
      "execution_count": null,
      "outputs": [
        {
          "output_type": "stream",
          "text": [
            "[[1529   66]\n",
            " [ 246  159]]\n"
          ],
          "name": "stdout"
        }
      ]
    },
    {
      "cell_type": "code",
      "metadata": {
        "colab": {
          "base_uri": "https://localhost:8080/"
        },
        "id": "KE3qpaFuHURp",
        "outputId": "a7cd45eb-950d-4fb2-a6c9-132283366ffc"
      },
      "source": [
        "accuracy_model2 = ((cm2[0][0]+cm2[1][1])*100)/(cm2[0][0]+cm2[1][1]+cm2[0][1]+cm2[1][0])\n",
        "print (accuracy_model2, '% of testing data was classified correctly')"
      ],
      "execution_count": null,
      "outputs": [
        {
          "output_type": "stream",
          "text": [
            "84.4 % of testing data was classified correctly\n"
          ],
          "name": "stdout"
        }
      ]
    },
    {
      "cell_type": "code",
      "metadata": {
        "colab": {
          "base_uri": "https://localhost:8080/"
        },
        "id": "Yavy-DSR4rKD",
        "outputId": "c42b6c95-78fa-4268-db95-ddbccb0d80a6"
      },
      "source": [
        "print(classification_report(y_test, y_pred))"
      ],
      "execution_count": null,
      "outputs": [
        {
          "output_type": "stream",
          "text": [
            "              precision    recall  f1-score   support\n",
            "\n",
            "           0       0.86      0.96      0.91      1595\n",
            "           1       0.71      0.39      0.50       405\n",
            "\n",
            "    accuracy                           0.84      2000\n",
            "   macro avg       0.78      0.68      0.71      2000\n",
            "weighted avg       0.83      0.84      0.83      2000\n",
            "\n"
          ],
          "name": "stdout"
        }
      ]
    },
    {
      "cell_type": "code",
      "metadata": {
        "colab": {
          "base_uri": "https://localhost:8080/"
        },
        "id": "iCZGO6voVRug",
        "outputId": "34b37ac6-eb89-4052-bef5-75d2d76ceade"
      },
      "source": [
        "y_pred = (y_pred > 0.6)\r\n",
        "print(y_pred)"
      ],
      "execution_count": null,
      "outputs": [
        {
          "output_type": "stream",
          "text": [
            "[[False]\n",
            " [False]\n",
            " [False]\n",
            " ...\n",
            " [False]\n",
            " [False]\n",
            " [False]]\n"
          ],
          "name": "stdout"
        }
      ]
    },
    {
      "cell_type": "code",
      "metadata": {
        "id": "KOYWmqMrVy03"
      },
      "source": [
        "# 75% acc"
      ],
      "execution_count": null,
      "outputs": []
    },
    {
      "cell_type": "code",
      "metadata": {
        "colab": {
          "base_uri": "https://localhost:8080/"
        },
        "id": "6Mw9dHazVVoK",
        "outputId": "661a8680-2240-4200-930a-5010d4902fd8"
      },
      "source": [
        "print(classification_report(y_test, y_pred))"
      ],
      "execution_count": null,
      "outputs": [
        {
          "output_type": "stream",
          "text": [
            "              precision    recall  f1-score   support\n",
            "\n",
            "           0       0.86      0.96      0.91      1595\n",
            "           1       0.71      0.39      0.50       405\n",
            "\n",
            "    accuracy                           0.84      2000\n",
            "   macro avg       0.78      0.68      0.71      2000\n",
            "weighted avg       0.83      0.84      0.83      2000\n",
            "\n"
          ],
          "name": "stdout"
        }
      ]
    },
    {
      "cell_type": "code",
      "metadata": {
        "colab": {
          "base_uri": "https://localhost:8080/"
        },
        "id": "6AlNlqFx49X6",
        "outputId": "1a6d5afa-7ba1-4fce-a13c-6c8edc51efcb"
      },
      "source": [
        "# Initializing the ANN\r\n",
        "Fclassifier = Sequential()\r\n",
        "# This adds the input layer (by specifying input dimension) AND the first hidden layer (units)\r\n",
        "Fclassifier.add(Dense(activation = 'tanh', input_dim = 11, units=3, kernel_initializer='he_uniform',bias_initializer='zeros'))\r\n",
        "Fclassifier.add(Dense(activation = 'tanh',  units=3, kernel_initializer='he_uniform',bias_initializer='zeros'))\r\n",
        "Fclassifier.add(Dense(activation = 'tanh',  units=2, kernel_initializer='he_uniform',bias_initializer='zeros'))\r\n",
        "Fclassifier.add(Dense(activation = 'sigmoid', units=1, kernel_initializer='he_uniform',bias_initializer='zeros'))\r\n",
        "Fclassifier.compile(optimizer='adam', loss = 'binary_crossentropy', metrics=['accuracy'])\r\n",
        "fmodel = Fclassifier.fit(X_train, y_train,           \r\n",
        "          validation_data=(X_test,y_test),\r\n",
        "          epochs=100,\r\n",
        "          batch_size=32)"
      ],
      "execution_count": null,
      "outputs": [
        {
          "output_type": "stream",
          "text": [
            "Epoch 1/100\n",
            "250/250 [==============================] - 1s 2ms/step - loss: 0.6544 - accuracy: 0.6343 - val_loss: 0.4846 - val_accuracy: 0.7960\n",
            "Epoch 2/100\n",
            "250/250 [==============================] - 0s 1ms/step - loss: 0.4709 - accuracy: 0.7980 - val_loss: 0.4550 - val_accuracy: 0.7995\n",
            "Epoch 3/100\n",
            "250/250 [==============================] - 0s 1ms/step - loss: 0.4621 - accuracy: 0.7949 - val_loss: 0.4449 - val_accuracy: 0.8060\n",
            "Epoch 4/100\n",
            "250/250 [==============================] - 0s 1ms/step - loss: 0.4379 - accuracy: 0.8101 - val_loss: 0.4402 - val_accuracy: 0.8055\n",
            "Epoch 5/100\n",
            "250/250 [==============================] - 0s 2ms/step - loss: 0.4330 - accuracy: 0.8114 - val_loss: 0.4357 - val_accuracy: 0.8060\n",
            "Epoch 6/100\n",
            "250/250 [==============================] - 0s 1ms/step - loss: 0.4420 - accuracy: 0.8033 - val_loss: 0.4291 - val_accuracy: 0.8090\n",
            "Epoch 7/100\n",
            "250/250 [==============================] - 0s 1ms/step - loss: 0.4335 - accuracy: 0.8036 - val_loss: 0.4221 - val_accuracy: 0.8100\n",
            "Epoch 8/100\n",
            "250/250 [==============================] - 0s 1ms/step - loss: 0.4261 - accuracy: 0.8081 - val_loss: 0.4143 - val_accuracy: 0.8155\n",
            "Epoch 9/100\n",
            "250/250 [==============================] - 0s 1ms/step - loss: 0.4164 - accuracy: 0.8152 - val_loss: 0.4053 - val_accuracy: 0.8205\n",
            "Epoch 10/100\n",
            "250/250 [==============================] - 0s 1ms/step - loss: 0.4160 - accuracy: 0.8077 - val_loss: 0.3965 - val_accuracy: 0.8225\n",
            "Epoch 11/100\n",
            "250/250 [==============================] - 0s 2ms/step - loss: 0.4016 - accuracy: 0.8194 - val_loss: 0.3895 - val_accuracy: 0.8315\n",
            "Epoch 12/100\n",
            "250/250 [==============================] - 0s 1ms/step - loss: 0.3882 - accuracy: 0.8287 - val_loss: 0.3843 - val_accuracy: 0.8305\n",
            "Epoch 13/100\n",
            "250/250 [==============================] - 0s 1ms/step - loss: 0.3847 - accuracy: 0.8326 - val_loss: 0.3838 - val_accuracy: 0.8295\n",
            "Epoch 14/100\n",
            "250/250 [==============================] - 0s 2ms/step - loss: 0.3773 - accuracy: 0.8401 - val_loss: 0.3781 - val_accuracy: 0.8350\n",
            "Epoch 15/100\n",
            "250/250 [==============================] - 0s 1ms/step - loss: 0.3792 - accuracy: 0.8376 - val_loss: 0.3752 - val_accuracy: 0.8400\n",
            "Epoch 16/100\n",
            "250/250 [==============================] - 0s 1ms/step - loss: 0.3716 - accuracy: 0.8390 - val_loss: 0.3745 - val_accuracy: 0.8405\n",
            "Epoch 17/100\n",
            "250/250 [==============================] - 0s 1ms/step - loss: 0.3889 - accuracy: 0.8404 - val_loss: 0.3728 - val_accuracy: 0.8425\n",
            "Epoch 18/100\n",
            "250/250 [==============================] - 0s 1ms/step - loss: 0.3833 - accuracy: 0.8407 - val_loss: 0.3718 - val_accuracy: 0.8450\n",
            "Epoch 19/100\n",
            "250/250 [==============================] - 0s 1ms/step - loss: 0.3781 - accuracy: 0.8412 - val_loss: 0.3714 - val_accuracy: 0.8450\n",
            "Epoch 20/100\n",
            "250/250 [==============================] - 0s 1ms/step - loss: 0.3761 - accuracy: 0.8451 - val_loss: 0.3693 - val_accuracy: 0.8455\n",
            "Epoch 21/100\n",
            "250/250 [==============================] - 0s 1ms/step - loss: 0.3842 - accuracy: 0.8398 - val_loss: 0.3703 - val_accuracy: 0.8435\n",
            "Epoch 22/100\n",
            "250/250 [==============================] - 0s 1ms/step - loss: 0.3808 - accuracy: 0.8438 - val_loss: 0.3685 - val_accuracy: 0.8440\n",
            "Epoch 23/100\n",
            "250/250 [==============================] - 0s 1ms/step - loss: 0.3673 - accuracy: 0.8456 - val_loss: 0.3678 - val_accuracy: 0.8465\n",
            "Epoch 24/100\n",
            "250/250 [==============================] - 0s 1ms/step - loss: 0.3776 - accuracy: 0.8474 - val_loss: 0.3686 - val_accuracy: 0.8445\n",
            "Epoch 25/100\n",
            "250/250 [==============================] - 0s 1ms/step - loss: 0.3672 - accuracy: 0.8476 - val_loss: 0.3662 - val_accuracy: 0.8475\n",
            "Epoch 26/100\n",
            "250/250 [==============================] - 0s 1ms/step - loss: 0.3648 - accuracy: 0.8527 - val_loss: 0.3657 - val_accuracy: 0.8495\n",
            "Epoch 27/100\n",
            "250/250 [==============================] - 0s 1ms/step - loss: 0.3727 - accuracy: 0.8474 - val_loss: 0.3639 - val_accuracy: 0.8525\n",
            "Epoch 28/100\n",
            "250/250 [==============================] - 0s 1ms/step - loss: 0.3719 - accuracy: 0.8477 - val_loss: 0.3644 - val_accuracy: 0.8535\n",
            "Epoch 29/100\n",
            "250/250 [==============================] - 0s 1ms/step - loss: 0.3786 - accuracy: 0.8450 - val_loss: 0.3617 - val_accuracy: 0.8540\n",
            "Epoch 30/100\n",
            "250/250 [==============================] - 0s 1ms/step - loss: 0.3681 - accuracy: 0.8515 - val_loss: 0.3621 - val_accuracy: 0.8535\n",
            "Epoch 31/100\n",
            "250/250 [==============================] - 0s 1ms/step - loss: 0.3683 - accuracy: 0.8495 - val_loss: 0.3635 - val_accuracy: 0.8530\n",
            "Epoch 32/100\n",
            "250/250 [==============================] - 0s 2ms/step - loss: 0.3699 - accuracy: 0.8481 - val_loss: 0.3608 - val_accuracy: 0.8555\n",
            "Epoch 33/100\n",
            "250/250 [==============================] - 0s 1ms/step - loss: 0.3593 - accuracy: 0.8518 - val_loss: 0.3591 - val_accuracy: 0.8555\n",
            "Epoch 34/100\n",
            "250/250 [==============================] - 0s 1ms/step - loss: 0.3703 - accuracy: 0.8527 - val_loss: 0.3579 - val_accuracy: 0.8540\n",
            "Epoch 35/100\n",
            "250/250 [==============================] - 0s 1ms/step - loss: 0.3636 - accuracy: 0.8530 - val_loss: 0.3580 - val_accuracy: 0.8575\n",
            "Epoch 36/100\n",
            "250/250 [==============================] - 0s 1ms/step - loss: 0.3597 - accuracy: 0.8570 - val_loss: 0.3562 - val_accuracy: 0.8565\n",
            "Epoch 37/100\n",
            "250/250 [==============================] - 0s 1ms/step - loss: 0.3639 - accuracy: 0.8478 - val_loss: 0.3574 - val_accuracy: 0.8535\n",
            "Epoch 38/100\n",
            "250/250 [==============================] - 0s 2ms/step - loss: 0.3507 - accuracy: 0.8623 - val_loss: 0.3568 - val_accuracy: 0.8505\n",
            "Epoch 39/100\n",
            "250/250 [==============================] - 0s 1ms/step - loss: 0.3608 - accuracy: 0.8513 - val_loss: 0.3552 - val_accuracy: 0.8530\n",
            "Epoch 40/100\n",
            "250/250 [==============================] - 1s 2ms/step - loss: 0.3647 - accuracy: 0.8477 - val_loss: 0.3556 - val_accuracy: 0.8520\n",
            "Epoch 41/100\n",
            "250/250 [==============================] - 0s 1ms/step - loss: 0.3530 - accuracy: 0.8568 - val_loss: 0.3532 - val_accuracy: 0.8540\n",
            "Epoch 42/100\n",
            "250/250 [==============================] - 0s 1ms/step - loss: 0.3554 - accuracy: 0.8569 - val_loss: 0.3523 - val_accuracy: 0.8545\n",
            "Epoch 43/100\n",
            "250/250 [==============================] - 0s 1ms/step - loss: 0.3610 - accuracy: 0.8528 - val_loss: 0.3510 - val_accuracy: 0.8560\n",
            "Epoch 44/100\n",
            "250/250 [==============================] - 0s 1ms/step - loss: 0.3454 - accuracy: 0.8640 - val_loss: 0.3506 - val_accuracy: 0.8560\n",
            "Epoch 45/100\n",
            "250/250 [==============================] - 0s 1ms/step - loss: 0.3371 - accuracy: 0.8654 - val_loss: 0.3522 - val_accuracy: 0.8525\n",
            "Epoch 46/100\n",
            "250/250 [==============================] - 0s 1ms/step - loss: 0.3649 - accuracy: 0.8519 - val_loss: 0.3495 - val_accuracy: 0.8540\n",
            "Epoch 47/100\n",
            "250/250 [==============================] - 0s 1ms/step - loss: 0.3529 - accuracy: 0.8585 - val_loss: 0.3481 - val_accuracy: 0.8605\n",
            "Epoch 48/100\n",
            "250/250 [==============================] - 0s 1ms/step - loss: 0.3520 - accuracy: 0.8542 - val_loss: 0.3491 - val_accuracy: 0.8570\n",
            "Epoch 49/100\n",
            "250/250 [==============================] - 0s 1ms/step - loss: 0.3457 - accuracy: 0.8607 - val_loss: 0.3474 - val_accuracy: 0.8565\n",
            "Epoch 50/100\n",
            "250/250 [==============================] - 0s 2ms/step - loss: 0.3416 - accuracy: 0.8623 - val_loss: 0.3466 - val_accuracy: 0.8595\n",
            "Epoch 51/100\n",
            "250/250 [==============================] - 0s 1ms/step - loss: 0.3490 - accuracy: 0.8581 - val_loss: 0.3465 - val_accuracy: 0.8565\n",
            "Epoch 52/100\n",
            "250/250 [==============================] - 0s 1ms/step - loss: 0.3443 - accuracy: 0.8616 - val_loss: 0.3456 - val_accuracy: 0.8570\n",
            "Epoch 53/100\n",
            "250/250 [==============================] - 0s 2ms/step - loss: 0.3434 - accuracy: 0.8583 - val_loss: 0.3443 - val_accuracy: 0.8590\n",
            "Epoch 54/100\n",
            "250/250 [==============================] - 0s 1ms/step - loss: 0.3412 - accuracy: 0.8616 - val_loss: 0.3461 - val_accuracy: 0.8565\n",
            "Epoch 55/100\n",
            "250/250 [==============================] - 0s 2ms/step - loss: 0.3445 - accuracy: 0.8586 - val_loss: 0.3441 - val_accuracy: 0.8585\n",
            "Epoch 56/100\n",
            "250/250 [==============================] - 0s 2ms/step - loss: 0.3488 - accuracy: 0.8538 - val_loss: 0.3454 - val_accuracy: 0.8580\n",
            "Epoch 57/100\n",
            "250/250 [==============================] - 0s 2ms/step - loss: 0.3465 - accuracy: 0.8556 - val_loss: 0.3423 - val_accuracy: 0.8590\n",
            "Epoch 58/100\n",
            "250/250 [==============================] - 0s 2ms/step - loss: 0.3461 - accuracy: 0.8590 - val_loss: 0.3437 - val_accuracy: 0.8570\n",
            "Epoch 59/100\n",
            "250/250 [==============================] - 0s 2ms/step - loss: 0.3429 - accuracy: 0.8599 - val_loss: 0.3411 - val_accuracy: 0.8565\n",
            "Epoch 60/100\n",
            "250/250 [==============================] - 0s 2ms/step - loss: 0.3538 - accuracy: 0.8499 - val_loss: 0.3401 - val_accuracy: 0.8590\n",
            "Epoch 61/100\n",
            "250/250 [==============================] - 0s 2ms/step - loss: 0.3437 - accuracy: 0.8622 - val_loss: 0.3417 - val_accuracy: 0.8560\n",
            "Epoch 62/100\n",
            "250/250 [==============================] - 0s 2ms/step - loss: 0.3418 - accuracy: 0.8585 - val_loss: 0.3395 - val_accuracy: 0.8590\n",
            "Epoch 63/100\n",
            "250/250 [==============================] - 0s 1ms/step - loss: 0.3396 - accuracy: 0.8653 - val_loss: 0.3379 - val_accuracy: 0.8630\n",
            "Epoch 64/100\n",
            "250/250 [==============================] - 0s 2ms/step - loss: 0.3465 - accuracy: 0.8625 - val_loss: 0.3387 - val_accuracy: 0.8600\n",
            "Epoch 65/100\n",
            "250/250 [==============================] - 0s 2ms/step - loss: 0.3391 - accuracy: 0.8595 - val_loss: 0.3374 - val_accuracy: 0.8610\n",
            "Epoch 66/100\n",
            "250/250 [==============================] - 0s 1ms/step - loss: 0.3443 - accuracy: 0.8584 - val_loss: 0.3385 - val_accuracy: 0.8610\n",
            "Epoch 67/100\n",
            "250/250 [==============================] - 0s 2ms/step - loss: 0.3435 - accuracy: 0.8589 - val_loss: 0.3383 - val_accuracy: 0.8615\n",
            "Epoch 68/100\n",
            "250/250 [==============================] - 0s 2ms/step - loss: 0.3316 - accuracy: 0.8647 - val_loss: 0.3373 - val_accuracy: 0.8625\n",
            "Epoch 69/100\n",
            "250/250 [==============================] - 0s 2ms/step - loss: 0.3472 - accuracy: 0.8547 - val_loss: 0.3404 - val_accuracy: 0.8585\n",
            "Epoch 70/100\n",
            "250/250 [==============================] - 0s 2ms/step - loss: 0.3401 - accuracy: 0.8622 - val_loss: 0.3375 - val_accuracy: 0.8595\n",
            "Epoch 71/100\n",
            "250/250 [==============================] - 0s 2ms/step - loss: 0.3399 - accuracy: 0.8586 - val_loss: 0.3386 - val_accuracy: 0.8600\n",
            "Epoch 72/100\n",
            "250/250 [==============================] - 0s 2ms/step - loss: 0.3400 - accuracy: 0.8609 - val_loss: 0.3376 - val_accuracy: 0.8580\n",
            "Epoch 73/100\n",
            "250/250 [==============================] - 0s 1ms/step - loss: 0.3380 - accuracy: 0.8628 - val_loss: 0.3390 - val_accuracy: 0.8595\n",
            "Epoch 74/100\n",
            "250/250 [==============================] - 0s 1ms/step - loss: 0.3401 - accuracy: 0.8585 - val_loss: 0.3404 - val_accuracy: 0.8585\n",
            "Epoch 75/100\n",
            "250/250 [==============================] - 0s 2ms/step - loss: 0.3422 - accuracy: 0.8600 - val_loss: 0.3374 - val_accuracy: 0.8590\n",
            "Epoch 76/100\n",
            "250/250 [==============================] - 0s 2ms/step - loss: 0.3290 - accuracy: 0.8663 - val_loss: 0.3373 - val_accuracy: 0.8600\n",
            "Epoch 77/100\n",
            "250/250 [==============================] - 0s 2ms/step - loss: 0.3386 - accuracy: 0.8633 - val_loss: 0.3374 - val_accuracy: 0.8605\n",
            "Epoch 78/100\n",
            "250/250 [==============================] - 0s 1ms/step - loss: 0.3394 - accuracy: 0.8616 - val_loss: 0.3355 - val_accuracy: 0.8620\n",
            "Epoch 79/100\n",
            "250/250 [==============================] - 0s 1ms/step - loss: 0.3379 - accuracy: 0.8589 - val_loss: 0.3368 - val_accuracy: 0.8570\n",
            "Epoch 80/100\n",
            "250/250 [==============================] - 0s 2ms/step - loss: 0.3325 - accuracy: 0.8660 - val_loss: 0.3408 - val_accuracy: 0.8595\n",
            "Epoch 81/100\n",
            "250/250 [==============================] - 0s 2ms/step - loss: 0.3488 - accuracy: 0.8510 - val_loss: 0.3353 - val_accuracy: 0.8625\n",
            "Epoch 82/100\n",
            "250/250 [==============================] - 0s 1ms/step - loss: 0.3473 - accuracy: 0.8547 - val_loss: 0.3342 - val_accuracy: 0.8600\n",
            "Epoch 83/100\n",
            "250/250 [==============================] - 0s 1ms/step - loss: 0.3389 - accuracy: 0.8617 - val_loss: 0.3386 - val_accuracy: 0.8575\n",
            "Epoch 84/100\n",
            "250/250 [==============================] - 0s 2ms/step - loss: 0.3465 - accuracy: 0.8583 - val_loss: 0.3348 - val_accuracy: 0.8615\n",
            "Epoch 85/100\n",
            "250/250 [==============================] - 0s 1ms/step - loss: 0.3317 - accuracy: 0.8646 - val_loss: 0.3386 - val_accuracy: 0.8600\n",
            "Epoch 86/100\n",
            "250/250 [==============================] - 0s 2ms/step - loss: 0.3369 - accuracy: 0.8592 - val_loss: 0.3366 - val_accuracy: 0.8585\n",
            "Epoch 87/100\n",
            "250/250 [==============================] - 0s 1ms/step - loss: 0.3491 - accuracy: 0.8562 - val_loss: 0.3370 - val_accuracy: 0.8600\n",
            "Epoch 88/100\n",
            "250/250 [==============================] - 0s 2ms/step - loss: 0.3467 - accuracy: 0.8532 - val_loss: 0.3364 - val_accuracy: 0.8595\n",
            "Epoch 89/100\n",
            "250/250 [==============================] - 0s 1ms/step - loss: 0.3378 - accuracy: 0.8621 - val_loss: 0.3339 - val_accuracy: 0.8620\n",
            "Epoch 90/100\n",
            "250/250 [==============================] - 0s 2ms/step - loss: 0.3466 - accuracy: 0.8605 - val_loss: 0.3358 - val_accuracy: 0.8585\n",
            "Epoch 91/100\n",
            "250/250 [==============================] - 0s 2ms/step - loss: 0.3362 - accuracy: 0.8645 - val_loss: 0.3348 - val_accuracy: 0.8610\n",
            "Epoch 92/100\n",
            "250/250 [==============================] - 0s 2ms/step - loss: 0.3427 - accuracy: 0.8614 - val_loss: 0.3352 - val_accuracy: 0.8605\n",
            "Epoch 93/100\n",
            "250/250 [==============================] - 0s 2ms/step - loss: 0.3362 - accuracy: 0.8585 - val_loss: 0.3354 - val_accuracy: 0.8615\n",
            "Epoch 94/100\n",
            "250/250 [==============================] - 0s 2ms/step - loss: 0.3339 - accuracy: 0.8627 - val_loss: 0.3361 - val_accuracy: 0.8610\n",
            "Epoch 95/100\n",
            "250/250 [==============================] - 0s 1ms/step - loss: 0.3406 - accuracy: 0.8617 - val_loss: 0.3351 - val_accuracy: 0.8600\n",
            "Epoch 96/100\n",
            "250/250 [==============================] - 0s 2ms/step - loss: 0.3426 - accuracy: 0.8635 - val_loss: 0.3367 - val_accuracy: 0.8585\n",
            "Epoch 97/100\n",
            "250/250 [==============================] - 1s 2ms/step - loss: 0.3453 - accuracy: 0.8612 - val_loss: 0.3378 - val_accuracy: 0.8585\n",
            "Epoch 98/100\n",
            "250/250 [==============================] - 0s 2ms/step - loss: 0.3296 - accuracy: 0.8664 - val_loss: 0.3357 - val_accuracy: 0.8600\n",
            "Epoch 99/100\n",
            "250/250 [==============================] - 0s 2ms/step - loss: 0.3450 - accuracy: 0.8610 - val_loss: 0.3352 - val_accuracy: 0.8600\n",
            "Epoch 100/100\n",
            "250/250 [==============================] - 0s 2ms/step - loss: 0.3357 - accuracy: 0.8587 - val_loss: 0.3349 - val_accuracy: 0.8610\n"
          ],
          "name": "stdout"
        }
      ]
    },
    {
      "cell_type": "code",
      "metadata": {
        "colab": {
          "base_uri": "https://localhost:8080/",
          "height": 590
        },
        "id": "Bs2oqcfz9Zcj",
        "outputId": "a0c42873-1421-4453-f2c6-9d0a05c428a1"
      },
      "source": [
        "print(fmodel.history.keys())\r\n",
        "# summarize history for accuracy\r\n",
        "plt.plot(fmodel.history['accuracy'])\r\n",
        "plt.plot(fmodel.history['val_accuracy'])\r\n",
        "plt.title('model accuracy')\r\n",
        "plt.ylabel('accuracy')\r\n",
        "plt.xlabel('epoch')\r\n",
        "plt.legend(['train', 'test'], loc='upper left')\r\n",
        "plt.show()\r\n",
        "# summarize history for loss\r\n",
        "plt.plot(fmodel.history['loss'])\r\n",
        "plt.plot(fmodel.history['val_loss'])\r\n",
        "plt.title('model loss')\r\n",
        "plt.ylabel('loss')\r\n",
        "plt.xlabel('epoch')\r\n",
        "plt.legend(['train', 'test'], loc='upper left')\r\n",
        "plt.show()"
      ],
      "execution_count": null,
      "outputs": [
        {
          "output_type": "stream",
          "text": [
            "dict_keys(['loss', 'accuracy', 'val_loss', 'val_accuracy'])\n"
          ],
          "name": "stdout"
        },
        {
          "output_type": "display_data",
          "data": {
            "image/png": "[encoded data removed]",
            "text/plain": [
              "<Figure size 432x288 with 1 Axes>"
            ]
          },
          "metadata": {
            "tags": [],
            "needs_background": "light"
          }
        },
        {
          "output_type": "display_data",
          "data": {
            "image/png": "[encoded data removed]",
            "text/plain": [
              "<Figure size 432x288 with 1 Axes>"
            ]
          },
          "metadata": {
            "tags": [],
            "needs_background": "light"
          }
        }
      ]
    },
    {
      "cell_type": "code",
      "metadata": {
        "id": "ffsgtbPX52jv"
      },
      "source": [
        "class myCallback(tf.keras.callbacks.Callback):\r\n",
        "  def on_epoch_end(self,epoch,logs={}):\r\n",
        "    if (logs.get('loss')<0.41):\r\n",
        "      print('\\n loss is sufficiently low, cancel training')\r\n",
        "      self.model.stop_training=True"
      ],
      "execution_count": null,
      "outputs": []
    },
    {
      "cell_type": "markdown",
      "metadata": {
        "id": "tVrB6DsR6QlR"
      },
      "source": [
        ""
      ]
    },
    {
      "cell_type": "code",
      "metadata": {
        "colab": {
          "base_uri": "https://localhost:8080/"
        },
        "id": "g1Skp-4F6NAe",
        "outputId": "a29c3c10-f824-488f-ea07-9947d6816bb3"
      },
      "source": [
        "callbacks = myCallback()\r\n",
        "# Initializing the ANN\r\n",
        "Fclassifier = Sequential()\r\n",
        "# This adds the input layer (by specifying input dimension) AND the first hidden layer (units)\r\n",
        "Fclassifier.add(Dense(activation = 'relu', input_dim = 11, units=6, kernel_initializer='uniform',bias_initializer='zeros'))\r\n",
        "\r\n",
        "Fclassifier.add(Dense(activation = 'relu',  units=6, kernel_initializer='uniform',bias_initializer='zeros'))\r\n",
        "\r\n",
        "Fclassifier.add(Dense(activation = 'sigmoid', units=1, kernel_initializer='uniform',bias_initializer='zeros'))\r\n",
        "\r\n",
        "Fclassifier.compile(optimizer='adam', loss = 'binary_crossentropy', metrics=['accuracy'])\r\n",
        "\r\n",
        "fmodel = Fclassifier.fit(X_train, y_train,           \r\n",
        "          validation_data=(X_test,y_test),\r\n",
        "          epochs=100,\r\n",
        "          batch_size=32,\r\n",
        "          callbacks= [callbacks])"
      ],
      "execution_count": null,
      "outputs": [
        {
          "output_type": "stream",
          "text": [
            "Epoch 1/100\n",
            "250/250 [==============================] - 1s 2ms/step - loss: 0.6355 - accuracy: 0.7929 - val_loss: 0.4391 - val_accuracy: 0.7975\n",
            "Epoch 2/100\n",
            "250/250 [==============================] - 0s 1ms/step - loss: 0.4380 - accuracy: 0.7920 - val_loss: 0.4275 - val_accuracy: 0.7975\n",
            "Epoch 3/100\n",
            "250/250 [==============================] - 0s 1ms/step - loss: 0.4325 - accuracy: 0.7966 - val_loss: 0.4247 - val_accuracy: 0.7975\n",
            "Epoch 4/100\n",
            "250/250 [==============================] - 0s 1ms/step - loss: 0.4243 - accuracy: 0.7917 - val_loss: 0.4215 - val_accuracy: 0.7975\n",
            "Epoch 5/100\n",
            "250/250 [==============================] - 0s 1ms/step - loss: 0.4172 - accuracy: 0.7986 - val_loss: 0.4185 - val_accuracy: 0.7975\n",
            "Epoch 6/100\n",
            "250/250 [==============================] - 0s 1ms/step - loss: 0.4143 - accuracy: 0.7979 - val_loss: 0.4170 - val_accuracy: 0.8250\n",
            "Epoch 7/100\n",
            "250/250 [==============================] - 0s 1ms/step - loss: 0.4257 - accuracy: 0.8182 - val_loss: 0.4147 - val_accuracy: 0.8315\n",
            "Epoch 8/100\n",
            "250/250 [==============================] - 0s 1ms/step - loss: 0.4223 - accuracy: 0.8241 - val_loss: 0.4128 - val_accuracy: 0.8330\n",
            "Epoch 9/100\n",
            "250/250 [==============================] - 0s 1ms/step - loss: 0.4240 - accuracy: 0.8240 - val_loss: 0.4119 - val_accuracy: 0.8340\n",
            "Epoch 10/100\n",
            "250/250 [==============================] - 0s 1ms/step - loss: 0.4191 - accuracy: 0.8231 - val_loss: 0.4105 - val_accuracy: 0.8370\n",
            "Epoch 11/100\n",
            "250/250 [==============================] - 0s 1ms/step - loss: 0.4126 - accuracy: 0.8277 - val_loss: 0.4099 - val_accuracy: 0.8365\n",
            "Epoch 12/100\n",
            "250/250 [==============================] - 0s 1ms/step - loss: 0.4124 - accuracy: 0.8308 - val_loss: 0.4097 - val_accuracy: 0.8375\n",
            "Epoch 13/100\n",
            "250/250 [==============================] - 0s 1ms/step - loss: 0.4207 - accuracy: 0.8252 - val_loss: 0.4083 - val_accuracy: 0.8355\n",
            "Epoch 14/100\n",
            "250/250 [==============================] - 0s 1ms/step - loss: 0.4162 - accuracy: 0.8297 - val_loss: 0.4075 - val_accuracy: 0.8350\n",
            "Epoch 15/100\n",
            "250/250 [==============================] - 0s 1ms/step - loss: 0.3950 - accuracy: 0.8453 - val_loss: 0.4068 - val_accuracy: 0.8400\n",
            "Epoch 16/100\n",
            "250/250 [==============================] - 0s 1ms/step - loss: 0.4098 - accuracy: 0.8351 - val_loss: 0.4066 - val_accuracy: 0.8380\n",
            "\n",
            " loss is sufficiently low, cancel training\n"
          ],
          "name": "stdout"
        }
      ]
    },
    {
      "cell_type": "code",
      "metadata": {
        "colab": {
          "base_uri": "https://localhost:8080/",
          "height": 590
        },
        "id": "-OWuXd_59koP",
        "outputId": "075d7aa9-27d6-4b08-dfa4-2ab974524751"
      },
      "source": [
        "print(fmodel.history.keys())\r\n",
        "# summarize history for accuracy\r\n",
        "plt.plot(fmodel.history['accuracy'])\r\n",
        "plt.plot(fmodel.history['val_accuracy'])\r\n",
        "plt.title('model accuracy')\r\n",
        "plt.ylabel('accuracy')\r\n",
        "plt.xlabel('epoch')\r\n",
        "plt.legend(['train', 'test'], loc='upper left')\r\n",
        "plt.show()\r\n",
        "# summarize history for loss\r\n",
        "plt.plot(fmodel.history['loss'])\r\n",
        "plt.plot(fmodel.history['val_loss'])\r\n",
        "plt.title('model loss')\r\n",
        "plt.ylabel('loss')\r\n",
        "plt.xlabel('epoch')\r\n",
        "plt.legend(['train', 'test'], loc='upper left')\r\n",
        "plt.show()"
      ],
      "execution_count": null,
      "outputs": [
        {
          "output_type": "stream",
          "text": [
            "dict_keys(['loss', 'accuracy', 'val_loss', 'val_accuracy'])\n"
          ],
          "name": "stdout"
        },
        {
          "output_type": "display_data",
          "data": {
            "image/png": "[encoded data removed]",
            "text/plain": [
              "<Figure size 432x288 with 1 Axes>"
            ]
          },
          "metadata": {
            "tags": [],
            "needs_background": "light"
          }
        },
        {
          "output_type": "display_data",
          "data": {
            "image/png": "[encoded data removed]",
            "text/plain": [
              "<Figure size 432x288 with 1 Axes>"
            ]
          },
          "metadata": {
            "tags": [],
            "needs_background": "light"
          }
        }
      ]
    },
    {
      "cell_type": "markdown",
      "metadata": {
        "id": "kbRxXISJHURt"
      },
      "source": [
        "#### The optimised model gives better results as seen from the confusion matrix as well as improved accuracy.\n",
        "\n",
        "\n",
        "We encourage the learners to further look for optimizing the model and come up with better results.\n",
        "\n",
        "#### Happy Learning!"
      ]
    },
    {
      "cell_type": "code",
      "metadata": {
        "id": "_95dzAb18L4i"
      },
      "source": [
        ""
      ],
      "execution_count": null,
      "outputs": []
    }
  ]
}